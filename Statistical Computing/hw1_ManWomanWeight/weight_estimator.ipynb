{
 "cells": [
  {
   "cell_type": "code",
   "execution_count": 1,
   "metadata": {
    "collapsed": true
   },
   "outputs": [],
   "source": [
    "import os\n",
    "import numpy as np\n",
    "import matplotlib.pyplot as plt\n",
    "import sklearn.mixture\n",
    "%matplotlib inline"
   ]
  },
  {
   "cell_type": "code",
   "execution_count": 2,
   "metadata": {},
   "outputs": [
    {
     "data": {
      "text/plain": [
       "(array([  2.,   1.,   2.,   4.,   5.,   5.,   2.,   6.,   5.,   9.,   6.,\n",
       "         11.,   4.,   5.,  14.,  17.,  11.,  14.,  18.,  12.,   9.,   9.,\n",
       "         12.,   7.,   3.,   2.,   3.,   1.,   0.,   1.]),\n",
       " array([ 43.5       ,  44.63333333,  45.76666667,  46.9       ,\n",
       "         48.03333333,  49.16666667,  50.3       ,  51.43333333,\n",
       "         52.56666667,  53.7       ,  54.83333333,  55.96666667,\n",
       "         57.1       ,  58.23333333,  59.36666667,  60.5       ,\n",
       "         61.63333333,  62.76666667,  63.9       ,  65.03333333,\n",
       "         66.16666667,  67.3       ,  68.43333333,  69.56666667,\n",
       "         70.7       ,  71.83333333,  72.96666667,  74.1       ,\n",
       "         75.23333333,  76.36666667,  77.5       ]),\n",
       " <a list of 30 Patch objects>)"
      ]
     },
     "execution_count": 2,
     "metadata": {},
     "output_type": "execute_result"
    },
    {
     "data": {
      "image/png": "[encoded data removed]",
      "text/plain": [
       "<matplotlib.figure.Figure at 0x16b899d07b8>"
      ]
     },
     "metadata": {},
     "output_type": "display_data"
    }
   ],
   "source": [
    "with open(\"data1.txt\", \"r\") as f:\n",
    "    data = f.read()\n",
    "\n",
    "data = np.array([float(number) for number in data.strip().split(\"   \")])\n",
    "plt.hist(data, bins=30)"
   ]
  },
  {
   "cell_type": "code",
   "execution_count": 3,
   "metadata": {
    "collapsed": true
   },
   "outputs": [],
   "source": [
    "GMM = sklearn.mixture.GaussianMixture(n_components=2, max_iter=10000)"
   ]
  },
  {
   "cell_type": "code",
   "execution_count": 4,
   "metadata": {},
   "outputs": [
    {
     "data": {
      "text/plain": [
       "GaussianMixture(covariance_type='full', init_params='kmeans', max_iter=10000,\n",
       "        means_init=None, n_components=2, n_init=1, precisions_init=None,\n",
       "        random_state=None, reg_covar=1e-06, tol=0.001, verbose=0,\n",
       "        verbose_interval=10, warm_start=False, weights_init=None)"
      ]
     },
     "execution_count": 4,
     "metadata": {},
     "output_type": "execute_result"
    }
   ],
   "source": [
    "data = data.reshape((len(data),1))\n",
    "GMM.fit(data)"
   ]
  },
  {
   "cell_type": "code",
   "execution_count": 5,
   "metadata": {},
   "outputs": [
    {
     "data": {
      "text/plain": [
       "array([[ 53.21829322],\n",
       "       [ 64.47687677]])"
      ]
     },
     "execution_count": 5,
     "metadata": {},
     "output_type": "execute_result"
    }
   ],
   "source": [
    "GMM.means_"
   ]
  },
  {
   "cell_type": "code",
   "execution_count": 6,
   "metadata": {},
   "outputs": [
    {
     "data": {
      "text/plain": [
       "array([[[ 21.10772036]],\n",
       "\n",
       "       [[ 19.11675191]]])"
      ]
     },
     "execution_count": 6,
     "metadata": {},
     "output_type": "execute_result"
    }
   ],
   "source": [
    "GMM.covariances_"
   ]
  },
  {
   "cell_type": "code",
   "execution_count": null,
   "metadata": {
    "collapsed": true
   },
   "outputs": [],
   "source": []
  }
 ],
 "metadata": {
  "kernelspec": {
   "display_name": "Python 3",
   "language": "python",
   "name": "python3"
  },
  "language_info": {
   "codemirror_mode": {
    "name": "ipython",
    "version": 3
   },
   "file_extension": ".py",
   "mimetype": "text/x-python",
   "name": "python",
   "nbconvert_exporter": "python",
   "pygments_lexer": "ipython3",
   "version": "3.6.2"
  }
 },
 "nbformat": 4,
 "nbformat_minor": 2
}
