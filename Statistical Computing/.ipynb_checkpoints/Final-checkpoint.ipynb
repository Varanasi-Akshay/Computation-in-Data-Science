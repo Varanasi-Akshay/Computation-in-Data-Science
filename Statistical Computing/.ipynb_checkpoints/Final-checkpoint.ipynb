{
 "cells": [
  {
   "cell_type": "code",
   "execution_count": 1,
   "metadata": {
    "collapsed": true
   },
   "outputs": [],
   "source": [
    "import numpy as np\n",
    "import matplotlib.pyplot as plt\n",
    "from scipy import integrate\n",
    "from scipy.stats import t\n",
    "% matplotlib inline"
   ]
  },
  {
   "cell_type": "markdown",
   "metadata": {},
   "source": [
    "#### 1.(a) CDF of double exponential is $F(x) = \\frac{e^x}{2}$ for $x<0$, and $1-\\frac{e^{-x}}{2}$ for $x\\geq0 $"
   ]
  },
  {
   "cell_type": "code",
   "execution_count": 2,
   "metadata": {
    "collapsed": true
   },
   "outputs": [],
   "source": [
    "# use inverse CDF to sample\n",
    "samples = []\n",
    "for i in range(1000):\n",
    "    u = np.random.uniform(0,1)\n",
    "    if u<=0.5:\n",
    "        x = np.log(2*u)\n",
    "    else:\n",
    "        x = -np.log(2*(1-u))\n",
    "    samples.append(x)"
   ]
  },
  {
   "cell_type": "code",
   "execution_count": 3,
   "metadata": {},
   "outputs": [
    {
     "data": {
      "image/png": "[encoded data removed]",
      "text/plain": [
       "<matplotlib.figure.Figure at 0x26ffbd84b38>"
      ]
     },
     "metadata": {},
     "output_type": "display_data"
    }
   ],
   "source": [
    "plt.hist(samples, normed=True, bins=30)\n",
    "plt.show()"
   ]
  },
  {
   "cell_type": "markdown",
   "metadata": {},
   "source": [
    "#### 1.(b) use student’s t-distribution with 3 degrees of freedom"
   ]
  },
  {
   "cell_type": "code",
   "execution_count": 4,
   "metadata": {
    "collapsed": true
   },
   "outputs": [],
   "source": [
    "from scipy.stats import t\n",
    "def g(x):\n",
    "    df = 3\n",
    "    return t.pdf(x, df)\n",
    "def f(x):\n",
    "    return 1/2*np.exp(-np.abs(x))\n",
    "\n",
    "sample_counts = 1000\n",
    "samples = []\n",
    "for _ in range(sample_counts):\n",
    "    # draw Y under exponential dist.\n",
    "    y = np.random.standard_t(df=3)\n",
    "    M = 2 \n",
    "    U = np.random.uniform(0,1)\n",
    "    if U<f(y)/(M*g(y)):\n",
    "        z = y\n",
    "        samples.append(z)"
   ]
  },
  {
   "cell_type": "code",
   "execution_count": 5,
   "metadata": {},
   "outputs": [
    {
     "data": {
      "image/png": "[encoded data removed]",
      "text/plain": [
       "<matplotlib.figure.Figure at 0x26ffc056be0>"
      ]
     },
     "metadata": {},
     "output_type": "display_data"
    }
   ],
   "source": [
    "plt.hist(samples, normed=True,bins=30)\n",
    "plt.show()"
   ]
  },
  {
   "cell_type": "markdown",
   "metadata": {},
   "source": [
    "#### 1.(c) random walk Metropolis-Hasting algorithm，proposal distribution 為 N(x,100)"
   ]
  },
  {
   "cell_type": "code",
   "execution_count": 6,
   "metadata": {},
   "outputs": [],
   "source": [
    "def f(x):\n",
    "    return 1/2*np.exp(-np.abs(x))\n",
    "max_iter = 1000\n",
    "chain = [0]\n",
    "for i in range(max_iter):\n",
    "    proposal = chain[i] + np.random.normal(chain[i],10)\n",
    "    if np.random.uniform() < min(1, (f(proposal)/f(chain[i]))):\n",
    "        chain.append(proposal)\n",
    "    else:\n",
    "        chain.append(chain[i])"
   ]
  },
  {
   "cell_type": "code",
   "execution_count": 7,
   "metadata": {},
   "outputs": [
    {
     "data": {
      "image/png": "[encoded data removed]",
      "text/plain": [
       "<matplotlib.figure.Figure at 0x26ffc0550f0>"
      ]
     },
     "metadata": {},
     "output_type": "display_data"
    }
   ],
   "source": [
    "plt.hist(chain, normed=True,bins=30)\n",
    "plt.show()"
   ]
  },
  {
   "cell_type": "markdown",
   "metadata": {},
   "source": [
    "#### 1.(d) slice sampling"
   ]
  },
  {
   "cell_type": "code",
   "execution_count": 8,
   "metadata": {
    "collapsed": true
   },
   "outputs": [],
   "source": [
    "def p(x):\n",
    "    return 1/2*np.exp(-np.abs(x))\n",
    "\n",
    "\n",
    "def p_inv(y,u):\n",
    "    if u<=0.5:\n",
    "        x = np.log(2*u)\n",
    "    else:\n",
    "        x = -np.log(2*(1-u))\n",
    "    return x-0.01, x+0.01\n",
    "\n",
    "\n",
    "def slice_sampling(iter=1000):\n",
    "    samples = np.zeros(iter)\n",
    "    x = 0\n",
    "\n",
    "    for i in range(iter):\n",
    "        u = np.random.uniform(0, p(x))\n",
    "        u_ = np.random.uniform(0,1)\n",
    "        x_lo, x_hi = p_inv(u,u_)\n",
    "        x = np.random.uniform(x_lo, x_hi)\n",
    "        samples[i] = x\n",
    "\n",
    "    return samples"
   ]
  },
  {
   "cell_type": "code",
   "execution_count": 9,
   "metadata": {},
   "outputs": [
    {
     "data": {
      "image/png": "[encoded data removed]",
      "text/plain": [
       "<matplotlib.figure.Figure at 0x26ff79098d0>"
      ]
     },
     "metadata": {},
     "output_type": "display_data"
    }
   ],
   "source": [
    "samples = slice_sampling(1000)\n",
    "plt.hist(samples, normed=True, bins=30)\n",
    "plt.show()"
   ]
  },
  {
   "cell_type": "markdown",
   "metadata": {},
   "source": [
    "1.(e) 分析比較以上四種方法的樣本。你認為優劣為何?"
   ]
  },
  {
   "cell_type": "markdown",
   "metadata": {},
   "source": [
    "* 使用 Inverse CDF 產生的分布較準確。但是它的限制就是需要求 inverse CDF。\n",
    "* student’s t-distribution 當 seed，可以用 Acceptance-Rejection Method。在 PDF 很複雜時可以使用。缺點就是需要尋找適合的抽樣分配。\n",
    "* Random walk Metropolis-Hasting algorithm and Slice sampling 都是希望能提高抽樣的效率，避免太多 sample 被拒絕掉。\n",
    "* 抽出來分布最漂亮的是 Inverse CDF 方法，"
   ]
  },
  {
   "cell_type": "markdown",
   "metadata": {},
   "source": [
    "### 2. Monte Carlo Integration"
   ]
  },
  {
   "cell_type": "markdown",
   "metadata": {},
   "source": [
    "#### 2.(a)"
   ]
  },
  {
   "cell_type": "markdown",
   "metadata": {},
   "source": [
    "Here I use exp(1) to to sample. Then adjust the original function."
   ]
  },
  {
   "cell_type": "code",
   "execution_count": 10,
   "metadata": {},
   "outputs": [],
   "source": [
    "e = np.random.exponential(1)"
   ]
  },
  {
   "cell_type": "code",
   "execution_count": 16,
   "metadata": {},
   "outputs": [
    {
     "name": "stdout",
     "output_type": "stream",
     "text": [
      "estimate: 0.000896603561377\n",
      "answer:   0.0008840140905130108\n"
     ]
    }
   ],
   "source": [
    "def func(x):\n",
    "    return np.sin(np.sqrt(x))*np.exp(-99*x)\n",
    "\n",
    "s = 0\n",
    "max_iter = 100000\n",
    "for _ in range(max_iter):\n",
    "    e = np.random.exponential(1)\n",
    "    s+=(func(e))\n",
    "print(\"estimate:\", s/max_iter)\n",
    "\n",
    "# answer \n",
    "\n",
    "def func(x):\n",
    "    return np.sin(np.sqrt(x))*np.exp(-100*x)\n",
    "y, error = integrate.quad(func, 0, np.inf)\n",
    "print(\"answer:  \", y)"
   ]
  },
  {
   "cell_type": "markdown",
   "metadata": {},
   "source": [
    "#### 2.(b)"
   ]
  },
  {
   "cell_type": "code",
   "execution_count": 19,
   "metadata": {},
   "outputs": [
    {
     "name": "stdout",
     "output_type": "stream",
     "text": [
      "estimate: 0.0049594041829\n",
      "answer:   0.004990113784133346\n"
     ]
    }
   ],
   "source": [
    "def func(x):\n",
    "    return np.log(1+x)*np.exp(-98*x**2.01)/np.exp(-x) # impotance sampling\n",
    "\n",
    "s = 0\n",
    "max_iter = 100000\n",
    "for _ in range(max_iter):\n",
    "    e = np.random.exponential(1)\n",
    "    s+=(func(e))\n",
    "print(\"estimate:\", s/max_iter)\n",
    "\n",
    "def func(x):\n",
    "    return np.log(1+x)*np.exp(-98*x**2.01)\n",
    "y, error = integrate.quad(func, 0, np.inf)\n",
    "print(\"answer:  \", y)"
   ]
  },
  {
   "cell_type": "markdown",
   "metadata": {},
   "source": [
    "#### 2.(c)"
   ]
  },
  {
   "cell_type": "code",
   "execution_count": 20,
   "metadata": {},
   "outputs": [
    {
     "name": "stdout",
     "output_type": "stream",
     "text": [
      "integration estimation: 5.5327165637e+35\n"
     ]
    }
   ],
   "source": [
    "max_iter = 10000\n",
    "integral = 0\n",
    "for i in range(max_iter):\n",
    "    e_vec = np.random.exponential(1, 20)\n",
    "    product = 1\n",
    "    for j in range(19):\n",
    "        k = j+1\n",
    "        f = np.exp(-(e_vec[j]**2+e_vec[j+1]**2)/(k))*(np.cos(e_vec[j])\n",
    "                                                                 +(k)**2*np.log(1+e_vec[j+1]))/np.exp(-e_vec[j])\n",
    "\n",
    "        product = product*f\n",
    "    integral += product\n",
    "print(\"integration estimation:\",integral/max_iter)"
   ]
  },
  {
   "cell_type": "markdown",
   "metadata": {},
   "source": [
    "### 3. Denoising"
   ]
  },
  {
   "cell_type": "code",
   "execution_count": 21,
   "metadata": {},
   "outputs": [
    {
     "data": {
      "image/png": "[encoded data removed]",
      "text/plain": [
       "<matplotlib.figure.Figure at 0x26ffc08e5f8>"
      ]
     },
     "metadata": {},
     "output_type": "display_data"
    }
   ],
   "source": [
    "with open(\"./DenoisingAndDecoding/data4.txt\", \"r\") as f:\n",
    "    noise_image = [line.strip().split(\" \") for line in f.readlines()]\n",
    "    noise_image = np.array(noise_image, dtype=float).T\n",
    "plt.imshow(noise_image, \"gray\")\n",
    "plt.show()"
   ]
  },
  {
   "cell_type": "code",
   "execution_count": 22,
   "metadata": {
    "collapsed": true
   },
   "outputs": [],
   "source": [
    "class IsingGrid:\n",
    "    def __init__(self, height, width, extfield, invtemp):\n",
    "        self.width, self.height, self.extfield, self.invtemp = height, width, extfield, invtemp\n",
    "        self.grid = np.zeros([self.width, self.height], dtype=np.int8) + 1\n",
    "        \n",
    "    def plot(self):\n",
    "        plt.imshow(self.grid, cmap=\"gray\", aspect=\"equal\", interpolation=\"none\", vmin=-1, vmax=1)\n",
    "    \n",
    "    def make_random(self):\n",
    "        self.grid = (np.random.randint(0, 2, size = self.width * self.height).reshape(self.width, self.height) * 2) - 1\n",
    "    \n",
    "    def neighbours(self, x, y):\n",
    "        n = []\n",
    "        if x == 0:\n",
    "            n.append( (self.width-1, y) )\n",
    "        else:\n",
    "            n.append( (x-1, y) )\n",
    "        if x == self.width-1:\n",
    "            n.append( (0, y) )\n",
    "        else:\n",
    "            n.append( (x+1, y) )\n",
    "        if y == 0:\n",
    "            n.append( (x, self.height-1) )\n",
    "        else:\n",
    "            n.append( (x, y-1) )\n",
    "        if y == self.height-1:\n",
    "            n.append( (x, 0) )\n",
    "        else:\n",
    "            n.append( (x, y+1) )\n",
    "        return n\n",
    "    \n",
    "    def local_energy(self, x, y):\n",
    "        return self.extfield + sum( self.grid[xx,yy] for (xx, yy) in self.neighbours(x, y) )\n",
    "    \n",
    "    def total_energy(self):\n",
    "        # Could maybe do some numpy games here, but periodic boundary conditions make this tricky.\n",
    "        # This function is only ever useful for very small grids anyway.\n",
    "        energy = - self.extfield * np.sum(self.grid)\n",
    "        energy += - sum( self.grid[x, y] * sum( self.grid[xx, yy] for (xx, yy) in self.neighbours(x, y) )\n",
    "                        for x in range(self.width) for y in range(self.height) ) / 2\n",
    "        return energy\n",
    "    \n",
    "    def probability(self):\n",
    "        return np.exp( - self.invtemp * self.total_energy() )\n",
    "    \n",
    "    def gibbs_move(self):\n",
    "        n = np.random.randint(0, self.width * self.height)\n",
    "        y = n // self.width\n",
    "        x = n % self.width\n",
    "        p = 1 / (1 + np.exp(-2 * self.invtemp * self.local_energy(x,y)))\n",
    "        if np.random.random() <= p:\n",
    "            self.grid[x,y] = 1\n",
    "        else:\n",
    "            self.grid[x,y] = -1\n",
    "            \n",
    "    def from_number(self, n):\n",
    "        \"\"\"Convert an integer 0 <= n < 2**(width*height) into a grid.\"\"\"\n",
    "        binstring = bin(n)[2:]\n",
    "        binstring = \"0\" * (N - len(binstring)) + binstring\n",
    "        self.grid = np.array([int(x)*2-1 for x in binstring], dtype=np.int8).reshape(self.width, self.height)\n",
    "    \n",
    "    def to_number(self):\n",
    "        \"\"\"Convert grid into an integer.\"\"\"\n",
    "        flat = [self.grid[x, y] for x in range(self.width) for y in range(self.height)]\n",
    "        return sum(2**n * (int(x)+1)//2 for n, x in enumerate(reversed(flat)))\n",
    "\n",
    "class IsingGridVaryingField(IsingGrid):\n",
    "    def __init__(self, height, width, extfield, invtemp):\n",
    "        super().__init__(height, width, 0, invtemp)\n",
    "        self.vextfield = extfield\n",
    "        \n",
    "    def local_energy(self, x, y):\n",
    "        return self.vextfield[x,y] + sum( self.grid[xx,yy] for (xx, yy) in self.neighbours(x, y) )\n",
    "    \n",
    "def IsingDeNoise(noisy, q, burnin = 50000, loops = 500000, temp=0.5):\n",
    "    inv_temp = 1/temp\n",
    "    h = 0.5 * np.log(q / (1-q))\n",
    "    gg = IsingGridVaryingField(noisy.shape[0], noisy.shape[1], h*noisy, inv_temp)\n",
    "    gg.grid = np.array(noisy)\n",
    "    \n",
    "    # Burn-in\n",
    "    for _ in range(burnin):\n",
    "        gg.gibbs_move()\n",
    "    \n",
    "    # Sample\n",
    "    avg = np.zeros_like(noisy).astype(np.float64)\n",
    "    for _ in range(loops):\n",
    "        gg.gibbs_move()\n",
    "        avg += gg.grid\n",
    "    return avg / loops"
   ]
  },
  {
   "cell_type": "code",
   "execution_count": 24,
   "metadata": {
    "scrolled": false
   },
   "outputs": [
    {
     "data": {
      "image/png": "[encoded data removed]",
      "text/plain": [
       "<matplotlib.figure.Figure at 0x26ffc700748>"
      ]
     },
     "metadata": {},
     "output_type": "display_data"
    },
    {
     "data": {
      "image/png": "[encoded data removed]",
      "text/plain": [
       "<matplotlib.figure.Figure at 0x26ffc62feb8>"
      ]
     },
     "metadata": {},
     "output_type": "display_data"
    },
    {
     "data": {
      "image/png": "[encoded data removed]",
      "text/plain": [
       "<matplotlib.figure.Figure at 0x26ffc573940>"
      ]
     },
     "metadata": {},
     "output_type": "display_data"
    },
    {
     "data": {
      "image/png": "[encoded data removed]",
      "text/plain": [
       "<matplotlib.figure.Figure at 0x26ffc625da0>"
      ]
     },
     "metadata": {},
     "output_type": "display_data"
    },
    {
     "data": {
      "image/png": "[encoded data removed]",
      "text/plain": [
       "<matplotlib.figure.Figure at 0x26ffc648668>"
      ]
     },
     "metadata": {},
     "output_type": "display_data"
    },
    {
     "data": {
      "image/png": "[encoded data removed]",
      "text/plain": [
       "<matplotlib.figure.Figure at 0x26ffc750e80>"
      ]
     },
     "metadata": {},
     "output_type": "display_data"
    },
    {
     "data": {
      "image/png": "[encoded data removed]",
      "text/plain": [
       "<matplotlib.figure.Figure at 0x26ffc5438d0>"
      ]
     },
     "metadata": {},
     "output_type": "display_data"
    },
    {
     "data": {
      "image/png": "[encoded data removed]",
      "text/plain": [
       "<matplotlib.figure.Figure at 0x26ffc700668>"
      ]
     },
     "metadata": {},
     "output_type": "display_data"
    },
    {
     "data": {
      "image/png": "[encoded data removed]",
      "text/plain": [
       "<matplotlib.figure.Figure at 0x26ffc866ba8>"
      ]
     },
     "metadata": {},
     "output_type": "display_data"
    },
    {
     "data": {
      "image/png": "[encoded data removed]",
      "text/plain": [
       "<matplotlib.figure.Figure at 0x26ffc7db630>"
      ]
     },
     "metadata": {},
     "output_type": "display_data"
    },
    {
     "data": {
      "image/png": "[encoded data removed]",
      "text/plain": [
       "<matplotlib.figure.Figure at 0x26ffd94cbe0>"
      ]
     },
     "metadata": {},
     "output_type": "display_data"
    },
    {
     "data": {
      "image/png": "[encoded data removed]",
      "text/plain": [
       "<matplotlib.figure.Figure at 0x26ffd93f5f8>"
      ]
     },
     "metadata": {},
     "output_type": "display_data"
    }
   ],
   "source": [
    "for t in [0.05, 0.1,0.125, 0.25,0.3,0.7,1,2,3,5,10,50]:\n",
    "    avg = IsingDeNoise(noise_image, 0.625, temp=t)\n",
    "    avg[avg >= 0] = 1\n",
    "    avg[avg < 0] = -1\n",
    "    avg = avg.astype(np.int)\n",
    "    plt.title(\"T=\"+str(t))\n",
    "    plt.imshow(avg, cmap=\"gray\")\n",
    "    plt.show()"
   ]
  },
  {
   "cell_type": "markdown",
   "metadata": {},
   "source": [
    "Denoising 效果的好懷實為主觀，可能看起來無雜質，但是缺邊缺角的，也可能偶有斑點，卻原汁原味的保留圖案，兩者都各有所好。因此，效果不容易用數學方法來決定。所以，這裡我選擇肉眼觀察法。給予 T 更多的選擇，並且使用肉眼判別成像的好壞。若您覺得哪張圖片好看，則最可能的 T 就寫在圖的上面。"
   ]
  },
  {
   "cell_type": "markdown",
   "metadata": {},
   "source": [
    "### 4. Casino"
   ]
  },
  {
   "cell_type": "code",
   "execution_count": 25,
   "metadata": {
    "collapsed": true
   },
   "outputs": [],
   "source": [
    "from scipy.stats import poisson"
   ]
  },
  {
   "cell_type": "code",
   "execution_count": 26,
   "metadata": {},
   "outputs": [
    {
     "name": "stdout",
     "output_type": "stream",
     "text": [
      "q = 0.5263157894736842\n",
      "percentage of (Yt=200): 1733 / 2000 sampling by q(x)\n",
      "P(Yt=200): 5.02828940987e-09\n"
     ]
    }
   ],
   "source": [
    "f_list = []\n",
    "P_list = []\n",
    "Q_list = []\n",
    "i_list = []\n",
    "P_Q_list = []\n",
    "N = 2000\n",
    "for _ in range(N):\n",
    "    y = 20\n",
    "    p = 18/38\n",
    "    q = 20/38\n",
    "    X = (np.random.binomial(1, q, 100000)-0.5)*2\n",
    "    done = 0\n",
    "    i = 0\n",
    "    while done==0: \n",
    "        y+=X[i]\n",
    "        i+=1\n",
    "        if y==0:\n",
    "            f_list.append(0)\n",
    "            done=1\n",
    "            N_P = sum(X[:i]==1) # number of 1\n",
    "            N_N = sum(X[:i]==-1) # number of -1\n",
    "            P = (p**N_P)*((1-p)**N_N)\n",
    "            Q = (q**N_P)*((1-q)**N_N)\n",
    "            P_list.append(P)\n",
    "            Q_list.append(Q)\n",
    "            i_list.append(i)\n",
    "            P_Q_list.append(P_Q)\n",
    "        if y==200:\n",
    "            f_list.append(1)\n",
    "            done=1\n",
    "            N_P = sum(X[:i]==1)\n",
    "            N_N = sum(X[:i]==-1)\n",
    "            P = (p**N_P)*((1-p)**N_N)\n",
    "            Q = (q**N_P)*((1-q)**N_N)\n",
    "            P_Q = ((p/q)**N_P)*(((1-p)/(1-q))**N_N) # p/q\n",
    "            P_list.append(P)\n",
    "            Q_list.append(Q)\n",
    "            P_Q_list.append(P_Q)\n",
    "            i_list.append(i)\n",
    "print(\"q =\",q)\n",
    "print(\"percentage of (Yt=200):\",sum(np.array(f_list) == 1),\"/\",N, \"sampling by q(x)\")\n",
    "print(\"P(Yt=200):\", np.mean(np.array(f_list) * np.array(P_Q_list)))"
   ]
  },
  {
   "cell_type": "markdown",
   "metadata": {},
   "source": [
    "新機器用原本用 $ p(x) \\sim  possion(0.95)$ 來產生隨機變數。為了 sample 到更多的 win，使用 $ q(x) \\sim  possion(1)$ 來 sample"
   ]
  },
  {
   "cell_type": "code",
   "execution_count": 27,
   "metadata": {},
   "outputs": [
    {
     "name": "stdout",
     "output_type": "stream",
     "text": [
      "percentage of (Yt>=200): 179 / 2000 sampling by q(x)\n",
      "P(Yt>=200): 4.82426829851e-09\n"
     ]
    }
   ],
   "source": [
    "f_list = []\n",
    "P_Q_list = []\n",
    "i_list = []\n",
    "N = 2000 # iteration\n",
    "\n",
    "for iteration in range(N):\n",
    "#     if iteration%100==0:\n",
    "#         print(iteration)\n",
    "    y = 20\n",
    "    X = np.random.poisson(lam=1, size=100000) # q(x)\n",
    "    done = 0\n",
    "    i = 0\n",
    "    while done==0:\n",
    "        y -= 1\n",
    "        y+=X[i]\n",
    "        i+=1\n",
    "\n",
    "        if y<=0:\n",
    "            f_list.append(0)\n",
    "            done=1\n",
    "            i_list.append(i)\n",
    "            p_list = poisson.pmf(X[:i+1],0.95)\n",
    "            q_list = poisson.pmf(X[:i+1],1)\n",
    "            p_q_array = np.array(p_list)/np.array(q_list) # adjust the probability\n",
    "            product = np.prod(p_q_array)\n",
    "            P_Q_list.append(product)\n",
    "        if y>200:\n",
    "            f_list.append(1)\n",
    "            done=1\n",
    "            i_list.append(i)\n",
    "            p_list = poisson.pmf(X[:i+1],0.95)\n",
    "            q_list = poisson.pmf(X[:i+1],1)\n",
    "            p_q_array = np.array(p_list)/np.array(q_list)\n",
    "            product = np.prod(p_q_array)\n",
    "            P_Q_list.append(product)\n",
    "\n",
    "print(\"percentage of (Yt>=200):\",sum(np.array(f_list)==1),\"/\",N, \"sampling by q(x)\")\n",
    "print(\"P(Yt>=200):\", np.mean(np.array(f_list) * np.array(P_Q_list)))"
   ]
  },
  {
   "cell_type": "markdown",
   "metadata": {},
   "source": [
    "#### 4.1 一個是新機器比起輪盤是否對玩家比較有利？<br>\n",
    "Ans: 兩種遊戲勝率都接近$10^{-9}$。對於玩家而言，新的遊戲沒有比輪盤有利。"
   ]
  },
  {
   "cell_type": "code",
   "execution_count": 28,
   "metadata": {},
   "outputs": [
    {
     "name": "stdout",
     "output_type": "stream",
     "text": [
      "輪盤平均下注幾次定勝負: 1905.075\n",
      "新機器平均下注幾次定勝負: 1403.925\n"
     ]
    }
   ],
   "source": [
    "N = 2000\n",
    "for _ in range(N):\n",
    "    y = 20\n",
    "    p = 18/38\n",
    "    X = (np.random.binomial(1, p, 100000)-0.5)*2\n",
    "    done = 0\n",
    "    i = 0\n",
    "    while done==0: \n",
    "        y+=X[i]\n",
    "        i+=1\n",
    "        if y==0:\n",
    "            f_list.append(0)\n",
    "            done=1\n",
    "            i_list.append(i)\n",
    "        if y==200:\n",
    "            f_list.append(1)\n",
    "            done=1\n",
    "            i_list.append(i)\n",
    "print(\"輪盤平均下注幾次定勝負:\", np.mean(i_list))\n",
    "for iteration in range(N):\n",
    "    y = 20\n",
    "    X = np.random.poisson(lam=0.95, size=100000) # p(x)\n",
    "    done = 0\n",
    "    i = 0\n",
    "    while done==0:\n",
    "        y -= 1\n",
    "        y+=X[i]\n",
    "        i+=1\n",
    "        if y<=0:\n",
    "            f_list.append(0)\n",
    "            done=1\n",
    "            i_list.append(i)\n",
    "        if y>200:\n",
    "            f_list.append(1)\n",
    "            done=1\n",
    "            i_list.append(i)\n",
    "print(\"新機器平均下注幾次定勝負:\", np.mean(i_list))"
   ]
  },
  {
   "cell_type": "markdown",
   "metadata": {},
   "source": [
    "#### 4.2 新機器是否如服務人員說的，比較容易分出勝負（輸光或贏回兩億）？<br>\n",
    "Ans: 對，比較兩款遊戲平均下了幾次定勝負，可以發現新機器的下注次數較少 (比較快輸)。"
   ]
  },
  {
   "cell_type": "code",
   "execution_count": null,
   "metadata": {},
   "outputs": [],
   "source": []
  },
  {
   "cell_type": "code",
   "execution_count": null,
   "metadata": {
    "collapsed": true
   },
   "outputs": [],
   "source": []
  }
 ],
 "metadata": {
  "kernelspec": {
   "display_name": "Python 3",
   "language": "python",
   "name": "python3"
  },
  "language_info": {
   "codemirror_mode": {
    "name": "ipython",
    "version": 3
   },
   "file_extension": ".py",
   "mimetype": "text/x-python",
   "name": "python",
   "nbconvert_exporter": "python",
   "pygments_lexer": "ipython3",
   "version": "3.6.2"
  }
 },
 "nbformat": 4,
 "nbformat_minor": 2
}
