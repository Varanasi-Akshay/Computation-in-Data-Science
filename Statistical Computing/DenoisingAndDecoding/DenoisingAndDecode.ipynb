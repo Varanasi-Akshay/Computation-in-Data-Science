{
 "cells": [
  {
   "cell_type": "code",
   "execution_count": 2,
   "metadata": {
    "collapsed": true
   },
   "outputs": [],
   "source": [
    "import numpy as np\n",
    "import matplotlib.pyplot as plt\n",
    "% matplotlib inline"
   ]
  },
  {
   "cell_type": "markdown",
   "metadata": {},
   "source": [
    "### 1. Ising model and denoising"
   ]
  },
  {
   "cell_type": "code",
   "execution_count": 41,
   "metadata": {
    "collapsed": true
   },
   "outputs": [],
   "source": [
    "with open(\"data4.txt\", \"r\") as f:\n",
    "    noise_image = [line.strip().split(\" \") for line in f.readlines()]\n",
    "    noise_image = np.array(noise_image, dtype=float).T\n",
    "    noise_image[image==-1] = 0"
   ]
  },
  {
   "cell_type": "code",
   "execution_count": 42,
   "metadata": {
    "scrolled": true
   },
   "outputs": [
    {
     "data": {
      "image/png": "[encoded data removed]",
      "text/plain": [
       "<Figure size 432x288 with 1 Axes>"
      ]
     },
     "metadata": {},
     "output_type": "display_data"
    }
   ],
   "source": [
    "plt.imshow(noise_image, \"gray\")\n",
    "plt.show()"
   ]
  },
  {
   "cell_type": "code",
   "execution_count": 80,
   "metadata": {
    "collapsed": true
   },
   "outputs": [],
   "source": [
    "class IsingGrid:\n",
    "    def __init__(self, height, width, extfield, invtemp):\n",
    "        self.width, self.height, self.extfield, self.invtemp = height, width, extfield, invtemp\n",
    "        self.grid = np.zeros([self.width, self.height], dtype=np.int8) + 1\n",
    "        \n",
    "    def plot(self):\n",
    "        plt.imshow(self.grid, cmap=\"gray\", aspect=\"equal\", interpolation=\"none\", vmin=-1, vmax=1)\n",
    "    \n",
    "    def make_random(self):\n",
    "        self.grid = (np.random.randint(0, 2, size = self.width * self.height).reshape(self.width, self.height) * 2) - 1\n",
    "    \n",
    "    def neighbours(self, x, y):\n",
    "        n = []\n",
    "        if x == 0:\n",
    "            n.append( (self.width-1, y) )\n",
    "        else:\n",
    "            n.append( (x-1, y) )\n",
    "        if x == self.width-1:\n",
    "            n.append( (0, y) )\n",
    "        else:\n",
    "            n.append( (x+1, y) )\n",
    "        if y == 0:\n",
    "            n.append( (x, self.height-1) )\n",
    "        else:\n",
    "            n.append( (x, y-1) )\n",
    "        if y == self.height-1:\n",
    "            n.append( (x, 0) )\n",
    "        else:\n",
    "            n.append( (x, y+1) )\n",
    "        return n\n",
    "    \n",
    "    def local_energy(self, x, y):\n",
    "        return self.extfield + sum( self.grid[xx,yy] for (xx, yy) in self.neighbours(x, y) )\n",
    "    \n",
    "    def total_energy(self):\n",
    "        # Could maybe do some numpy games here, but periodic boundary conditions make this tricky.\n",
    "        # This function is only ever useful for very small grids anyway.\n",
    "        energy = - self.extfield * np.sum(self.grid)\n",
    "        energy += - sum( self.grid[x, y] * sum( self.grid[xx, yy] for (xx, yy) in self.neighbours(x, y) )\n",
    "                        for x in range(self.width) for y in range(self.height) ) / 2\n",
    "        return energy\n",
    "    \n",
    "    def probability(self):\n",
    "        return np.exp( - self.invtemp * self.total_energy() )\n",
    "    \n",
    "    def gibbs_move(self):\n",
    "        n = np.random.randint(0, self.width * self.height)\n",
    "        y = n // self.width\n",
    "        x = n % self.width\n",
    "        p = 1 / (1 + np.exp(-2 * self.invtemp * self.local_energy(x,y)))\n",
    "        if np.random.random() <= p:\n",
    "            self.grid[x,y] = 1\n",
    "        else:\n",
    "            self.grid[x,y] = -1\n",
    "            \n",
    "    def from_number(self, n):\n",
    "        \"\"\"Convert an integer 0 <= n < 2**(width*height) into a grid.\"\"\"\n",
    "        binstring = bin(n)[2:]\n",
    "        binstring = \"0\" * (N - len(binstring)) + binstring\n",
    "        self.grid = np.array([int(x)*2-1 for x in binstring], dtype=np.int8).reshape(self.width, self.height)\n",
    "    \n",
    "    def to_number(self):\n",
    "        \"\"\"Convert grid into an integer.\"\"\"\n",
    "        flat = [self.grid[x, y] for x in range(self.width) for y in range(self.height)]\n",
    "        return sum(2**n * (int(x)+1)//2 for n, x in enumerate(reversed(flat)))"
   ]
  },
  {
   "cell_type": "code",
   "execution_count": 81,
   "metadata": {
    "collapsed": true
   },
   "outputs": [],
   "source": [
    "class IsingGridVaryingField(IsingGrid):\n",
    "    def __init__(self, height, width, extfield, invtemp):\n",
    "        super().__init__(height, width, 0, invtemp)\n",
    "        self.vextfield = extfield\n",
    "        \n",
    "    def local_energy(self, x, y):\n",
    "        return self.vextfield[x,y] + sum( self.grid[xx,yy] for (xx, yy) in self.neighbours(x, y) )\n",
    "    \n",
    "def IsingDeNoise(noisy, q, burnin = 50000, loops = 500000, temp=0.5):\n",
    "    inv_temp = 1/temp\n",
    "    h = 0.5 * np.log(q / (1-q))\n",
    "    gg = IsingGridVaryingField(noisy.shape[0], noisy.shape[1], h*noisy, inv_temp)\n",
    "    gg.grid = np.array(noisy)\n",
    "    \n",
    "    # Burn-in\n",
    "    for _ in range(burnin):\n",
    "        gg.gibbs_move()\n",
    "    \n",
    "    # Sample\n",
    "    avg = np.zeros_like(noisy).astype(np.float64)\n",
    "    for _ in range(loops):\n",
    "        gg.gibbs_move()\n",
    "        avg += gg.grid\n",
    "    return avg / loops\n"
   ]
  },
  {
   "cell_type": "code",
   "execution_count": 91,
   "metadata": {
    "scrolled": true
   },
   "outputs": [
    {
     "data": {
      "image/png": "[encoded data removed]",
      "text/plain": [
       "<Figure size 432x288 with 1 Axes>"
      ]
     },
     "metadata": {},
     "output_type": "display_data"
    },
    {
     "data": {
      "image/png": "[encoded data removed]",
      "text/plain": [
       "<Figure size 432x288 with 1 Axes>"
      ]
     },
     "metadata": {},
     "output_type": "display_data"
    },
    {
     "data": {
      "image/png": "[encoded data removed]",
      "text/plain": [
       "<Figure size 432x288 with 1 Axes>"
      ]
     },
     "metadata": {},
     "output_type": "display_data"
    },
    {
     "data": {
      "image/png": "[encoded data removed]",
      "text/plain": [
       "<Figure size 432x288 with 1 Axes>"
      ]
     },
     "metadata": {},
     "output_type": "display_data"
    },
    {
     "data": {
      "image/png": "[encoded data removed]",
      "text/plain": [
       "<Figure size 432x288 with 1 Axes>"
      ]
     },
     "metadata": {},
     "output_type": "display_data"
    },
    {
     "data": {
      "image/png": "[encoded data removed]",
      "text/plain": [
       "<Figure size 432x288 with 1 Axes>"
      ]
     },
     "metadata": {},
     "output_type": "display_data"
    },
    {
     "data": {
      "image/png": "[encoded data removed]",
      "text/plain": [
       "<Figure size 432x288 with 1 Axes>"
      ]
     },
     "metadata": {},
     "output_type": "display_data"
    }
   ],
   "source": [
    "for t in [0.05,0.1,0.3,1,3,5,10]:\n",
    "    avg = IsingDeNoise(noise_image, 0.625, temp=t)\n",
    "    avg[avg >= 0] = 1\n",
    "    avg[avg < 0] = -1\n",
    "    avg = avg.astype(np.int)\n",
    "    plt.title(\"T=\"+str(t))\n",
    "    plt.imshow(avg, cmap=\"gray\")\n",
    "    plt.show()"
   ]
  },
  {
   "cell_type": "markdown",
   "metadata": {},
   "source": [
    "ref: http://nbviewer.jupyter.org/github/MatthewDaws/Python_bits/blob/master/monte_carlo/Ising%20Model.ipynb"
   ]
  },
  {
   "cell_type": "markdown",
   "metadata": {},
   "source": [
    "### 2. Decryption"
   ]
  },
  {
   "cell_type": "code",
   "execution_count": 54,
   "metadata": {},
   "outputs": [
    {
     "name": "stdout",
     "output_type": "stream",
     "text": [
      "Text To Decode: o rmaeqwzeqd rui wugelfuc zlfjuqgdcuna bzfyucg huqgfcfuh ajcuq uyfuhdqgui wauy rqfuoeaz uo jfcudpui wueafuqgfupdacqu rfudruqgfuozeccui waumaejfuhdzzubfueunzwcup auqgfucqeqdcqdoezuo ynwqdrmuneaqur uyeqqfaug hubejziui wuj udruqgfupdrezufsey\n",
      "\n",
      "iter 0 : O RMAEQWZEQD RUI WUGELFUC ZLFJUQGDCUNA BZFYUCG HUQGFCFUH AJCUQ UYFUHDQGUI WAUY RQFUOEAZ UO JFCUDPUI\n",
      "1345.1926236276795\n",
      "1332.6627134027012\n",
      "iter 10000 : CONGRATULATION YOU HAKE SOLKED THIS PROBLEM SHOW THESE WORDS TO ME WITH YOUR MONTE CARLO CODES IF Y\n",
      "2304.1679797509387\n",
      "2171.407663044022\n",
      "iter 20000 : CONGRATULATION YOU HAKE SOLKED THIS PROBLEM SHOW THESE WORDS TO ME WITH YOUR MONTE CARLO CODES IF Y\n",
      "2304.1679797509387\n",
      "2114.4305060657775\n",
      "iter 30000 : CONGRATULATION YOU HAKE SOLKED THIS BROPLEM SHOW THESE WORDS TO ME WITH YOUR MONTE CARLO CODES IF Y\n",
      "2304.4048267566104\n",
      "2271.9675728076345\n",
      "iter 40000 : CONGRATULATION YOU HAKE SOLKED THIS PROBLEM SHOW THESE WORDS TO ME WITH YOUR MONTE CARLO CODES IF Y\n",
      "2304.1679797509387\n",
      "2269.2136024532797\n",
      "iter 50000 : CONGRATULATION YOU HAVE SOLVED THIS BROPLEM SHOW THESE WORDS TO ME WITH YOUR MONTE CARLO CODES IF Y\n",
      "2303.6995983219945\n",
      "2299.9911779096137\n",
      "iter 60000 : CONGRATULATION YOU HAKE SOLKED THIS BROPLEM SHOW THESE WORDS TO ME WITH YOUR MONTE CARLO CODES IF Y\n",
      "2304.4048267566104\n",
      "2175.8999441230144\n",
      "iter 70000 : CONGRATULATION YOU HAVE SOLVED THIS PROBLEM SHOW THESE WORDS TO ME WITH YOUR MONTE CARLO CODES IF Y\n",
      "2303.4627513163223\n",
      "2248.4951255194337\n",
      "iter 80000 : CONGRATULATION YOU HAKE SOLKED THIS PROBLEM SHOW THESE WORDS TO ME WITH YOUR MONTE CARLO CODES IF Y\n",
      "2301.907773502183\n",
      "2126.025778464217\n",
      "iter 90000 : CONGRATULATION YOU HAVE SOLVED THIS PROBLEM SHOW THESE WORDS TO ME WITH YOUR MONTE CARLO CODES IF Y\n",
      "2303.4627513163223\n",
      "2292.853037787356\n",
      "\n",
      "\n",
      "Decoded Text: CONGRATULATION YOU HAKE SOLKED THIS BROPLEM SHOW THESE WORDS TO ME WITH YOUR MONTE CARLO CODES IF YOU ARE THE FIRST ONE IN THE CLASS YOUR GRADE WILL PE A BLUS FOR THE STATISTICAL COMBUTING BART NO MATTER HOW PADLY YOU DO IN THE FINAL EXAM\n",
      "\n",
      "MCMC KEY FOUND: RPSIAEHWYDQKGBCFTNXJ VUZMLO\n"
     ]
    }
   ],
   "source": [
    "# -*- coding: utf-8 -*-\n",
    "import math\n",
    "import random\n",
    "\n",
    "alphabet = \"ABCDEFGHIJKLMNOPQRSTUVWXYZ \"\n",
    "\n",
    "# 根据传入的密钥，生成字母替换规则字典\n",
    "# 例如传入\"DGHJKL...\"，生成字典{D:A, G:B, H:C...}\n",
    "def create_cipher_dict(cipher):\n",
    "    cipher_dict = {}\n",
    "    alphabet_list = list(alphabet)\n",
    "    for i in range(len(cipher)):\n",
    "        cipher_dict[alphabet_list[i]] = cipher[i]\n",
    "    return cipher_dict\n",
    "\n",
    "# 使用密钥对文本进行替换(加密/解密)\n",
    "def apply_cipher_on_text(text,cipher):\n",
    "    cipher_dict = create_cipher_dict(cipher) \n",
    "    text = list(text)\n",
    "    newtext = \"\"\n",
    "    for elem in text:\n",
    "        if elem.upper() in cipher_dict:\n",
    "            newtext+=cipher_dict[elem.upper()]\n",
    "        else:\n",
    "            newtext+=\" \"\n",
    "    return newtext\n",
    "\n",
    "# 统计参考语料的bigram\n",
    "# 例如 {'AB':234,'TH':2343,'CD':23 ..}\n",
    "def create_scoring_params_dict(longtext_path):\n",
    "    scoring_params = {}\n",
    "    alphabet_list = list(alphabet)\n",
    "    with open(longtext_path) as fp:\n",
    "        for line in fp:\n",
    "            data = list(line.strip())\n",
    "            for i in range(len(data)-1):\n",
    "                alpha_i = data[i].upper()\n",
    "                alpha_j = data[i+1].upper()\n",
    "                if alpha_i not in alphabet_list and alpha_i != \" \":\n",
    "                    alpha_i = \" \"\n",
    "                if alpha_j not in alphabet_list and alpha_j != \" \":\n",
    "                    alpha_j = \" \"\n",
    "                key = alpha_i+alpha_j\n",
    "                if key in scoring_params:\n",
    "                    scoring_params[key]+=1\n",
    "                else:\n",
    "                    scoring_params[key]=1\n",
    "    return scoring_params\n",
    "\n",
    "# 统计解密文本的bigram\n",
    "# 例如 {'AB':234,'TH':2343,'CD':23 ..}\n",
    "def score_params_on_cipher(text):\n",
    "    scoring_params = {}\n",
    "    alphabet_list = list(alphabet)\n",
    "    data = list(text.strip())\n",
    "    for i in range(len(data)-1):\n",
    "        alpha_i =data[i].upper()\n",
    "        alpha_j = data[i+1].upper()\n",
    "        if alpha_i not in alphabet_list and alpha_i != \" \":\n",
    "            alpha_i = \" \"\n",
    "        if alpha_j not in alphabet_list and alpha_j != \" \":\n",
    "            alpha_j = \" \"\n",
    "        key = alpha_i+alpha_j\n",
    "        if key in scoring_params:\n",
    "            scoring_params[key]+=1\n",
    "        else:\n",
    "            scoring_params[key]=1\n",
    "    return scoring_params\n",
    "\n",
    "# 根据公式计算密钥的评分\n",
    "def get_cipher_score(text,cipher,scoring_params):\n",
    "    decrypted_text = apply_cipher_on_text(text,cipher)\n",
    "    scored_f = score_params_on_cipher(decrypted_text)\n",
    "    cipher_score = 0\n",
    "    for k,v in scored_f.items():\n",
    "        if k in scoring_params:\n",
    "            cipher_score += v*math.log(scoring_params[k])\n",
    "    return cipher_score\n",
    "\n",
    "# 通过随机交换两个字母的顺序 生成一个新的密钥\n",
    "def generate_cipher(cipher):\n",
    "    pos1 = random.randint(0, len(list(cipher))-1)\n",
    "    pos2 = random.randint(0, len(list(cipher))-1)\n",
    "    if pos1 == pos2:\n",
    "        return generate_cipher(cipher)\n",
    "    else:\n",
    "        cipher = list(cipher)\n",
    "        pos1_alpha = cipher[pos1]\n",
    "        pos2_alpha = cipher[pos2]\n",
    "        cipher[pos1] = pos2_alpha\n",
    "        cipher[pos2] = pos1_alpha\n",
    "        return \"\".join(cipher)\n",
    "\n",
    "# 抛一枚出现正面概率为p的硬币，出现正面返回True，出现反面返回False\n",
    "def random_coin(p):\n",
    "    unif = random.uniform(0,1)\n",
    "    if unif>=p:\n",
    "        return False\n",
    "    else:\n",
    "        return True\n",
    "    \n",
    "# MCMC方法解密 运行n_iter轮\n",
    "def MCMC_decrypt(n_iter,cipher_text,scoring_params):\n",
    "    current_cipher = alphabet # 以随机密钥开始\n",
    "    state_keeper = set()\n",
    "    best_state = ''\n",
    "    score = 0\n",
    "    for i in range(n_iter):\n",
    "        state_keeper.add(current_cipher)\n",
    "        proposed_cipher = generate_cipher(current_cipher)\n",
    "        score_current_cipher = get_cipher_score(cipher_text,current_cipher,scoring_params)\n",
    "        score_proposed_cipher = get_cipher_score(cipher_text,proposed_cipher,scoring_params)\n",
    "        \n",
    "        acceptance_probability = min(1,math.exp(score_proposed_cipher-score_current_cipher))\n",
    "\n",
    "#         if score_current_cipher>score:\n",
    "#             best_state = current_cipher\n",
    "        if (score_proposed_cipher>score_current_cipher):\n",
    "            current_cipher = proposed_cipher\n",
    "        elif random_coin(acceptance_probability):\n",
    "            current_cipher = proposed_cipher\n",
    "        if i%10000==0:\n",
    "            print (\"iter\",i,\":\",apply_cipher_on_text(cipher_text,current_cipher)[0:99])\n",
    "            print(score_current_cipher)\n",
    "            print(score_proposed_cipher)\n",
    "            \n",
    "        best_state = current_cipher\n",
    "    return state_keeper,best_state\n",
    "\n",
    "\n",
    "\n",
    "# reference corpus\n",
    "scoring_params = create_scoring_params_dict('war_and_peace.txt')\n",
    "\n",
    "# 测试文本\n",
    "with open(\"decode.txt\", \"r\") as f:\n",
    "    cipher_text = f.read()\n",
    "    \n",
    "print(\"Text To Decode:\", cipher_text)\n",
    "print()\n",
    "states,best_state = MCMC_decrypt(100000,cipher_text,scoring_params)\n",
    "print(\"\\n\")\n",
    "print(\"Decoded Text:\",apply_cipher_on_text(cipher_text,best_state))\n",
    "print() \n",
    "print(\"MCMC KEY FOUND:\",best_state)\n"
   ]
  },
  {
   "cell_type": "markdown",
   "metadata": {
    "collapsed": true
   },
   "source": [
    "ref: https://bindog.github.io/blog/2015/10/15/revisit-mcmc-method/"
   ]
  },
  {
   "cell_type": "code",
   "execution_count": null,
   "metadata": {
    "collapsed": true
   },
   "outputs": [],
   "source": []
  }
 ],
 "metadata": {
  "kernelspec": {
   "display_name": "Python 3",
   "language": "python",
   "name": "python3"
  },
  "language_info": {
   "codemirror_mode": {
    "name": "ipython",
    "version": 3
   },
   "file_extension": ".py",
   "mimetype": "text/x-python",
   "name": "python",
   "nbconvert_exporter": "python",
   "pygments_lexer": "ipython3",
   "version": "3.5.2"
  }
 },
 "nbformat": 4,
 "nbformat_minor": 2
}
