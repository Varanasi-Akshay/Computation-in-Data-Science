{
 "cells": [
  {
   "cell_type": "code",
   "execution_count": 1,
   "metadata": {
    "collapsed": true
   },
   "outputs": [],
   "source": [
    "import numpy as np"
   ]
  },
  {
   "cell_type": "code",
   "execution_count": 2,
   "metadata": {
    "collapsed": true
   },
   "outputs": [],
   "source": [
    "def func(x):\n",
    "    return np.cos(x)*np.exp(-50*(x**2))"
   ]
  },
  {
   "cell_type": "code",
   "execution_count": 6,
   "metadata": {},
   "outputs": [
    {
     "data": {
      "text/plain": [
       "1.1313526737912697e-05"
      ]
     },
     "execution_count": 6,
     "metadata": {},
     "output_type": "execute_result"
    }
   ],
   "source": [
    "s = []\n",
    "for _ in range(10000):\n",
    "    rn = np.random.uniform(0,100)\n",
    "    s.append(func(rn))\n",
    "np.mean(s)/100"
   ]
  },
  {
   "cell_type": "code",
   "execution_count": 20,
   "metadata": {},
   "outputs": [
    {
     "name": "stdout",
     "output_type": "stream",
     "text": [
      "0 100 0 2.0\n"
     ]
    },
    {
     "data": {
      "text/plain": [
       "0.12260000000000001"
      ]
     },
     "execution_count": 20,
     "metadata": {},
     "output_type": "execute_result"
    }
   ],
   "source": [
    "def hard_function(x):\n",
    "    return np.cos(x)*np.exp(-50*(x**2))\n",
    "def integrate(x1,x2,func=hard_function,n=1000000):\n",
    "    X=np.linspace(x1,x2,10000)\n",
    "    y1=0\n",
    "    y2=max((func(X)))+1\n",
    "    print(x1,x2,y1,y2)\n",
    "    area=(x2-x1)*(y2-y1)\n",
    "    check=[]\n",
    "    xs=[]\n",
    "    ys=[]\n",
    "    for i in range(n):\n",
    "        x=np.random.uniform(x1,x2,1)\n",
    "        xs.append(x)\n",
    "        y=np.random.uniform(y1,y2,1)\n",
    "        ys.append(y)\n",
    "        if abs(y)>abs(func(x)) or y<0:\n",
    "            check.append(0)\n",
    "        else:\n",
    "            check.append(1)\n",
    "    return(np.mean(check)*area,xs,ys,check)\n",
    "integrate(0,100)[0]"
   ]
  },
  {
   "cell_type": "code",
   "execution_count": 27,
   "metadata": {},
   "outputs": [],
   "source": [
    "s = []\n",
    "for _ in range(1000000000):\n",
    "    n = np.random.normal(0,1)\n",
    "    s.append(n>8)"
   ]
  },
  {
   "cell_type": "code",
   "execution_count": 28,
   "metadata": {},
   "outputs": [
    {
     "data": {
      "text/plain": [
       "0.0"
      ]
     },
     "execution_count": 28,
     "metadata": {},
     "output_type": "execute_result"
    }
   ],
   "source": [
    "np.mean(s)"
   ]
  },
  {
   "cell_type": "code",
   "execution_count": 40,
   "metadata": {},
   "outputs": [
    {
     "data": {
      "text/plain": [
       "6.257491184527675e-16"
      ]
     },
     "execution_count": 40,
     "metadata": {},
     "output_type": "execute_result"
    }
   ],
   "source": [
    "s = 0\n",
    "num = 10000\n",
    "for _ in range(num):\n",
    "    n = np.random.normal(8,1)\n",
    "    if n>8:\n",
    "        output = np.exp(-8*n+32)\n",
    "        s += (output)\n",
    "s/num"
   ]
  },
  {
   "cell_type": "code",
   "execution_count": null,
   "metadata": {
    "collapsed": true
   },
   "outputs": [],
   "source": []
  }
 ],
 "metadata": {
  "kernelspec": {
   "display_name": "Python 3",
   "language": "python",
   "name": "python3"
  },
  "language_info": {
   "codemirror_mode": {
    "name": "ipython",
    "version": 3
   },
   "file_extension": ".py",
   "mimetype": "text/x-python",
   "name": "python",
   "nbconvert_exporter": "python",
   "pygments_lexer": "ipython3",
   "version": "3.5.2"
  }
 },
 "nbformat": 4,
 "nbformat_minor": 2
}
