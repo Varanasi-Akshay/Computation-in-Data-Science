{
 "cells": [
  {
   "cell_type": "code",
   "execution_count": 1,
   "metadata": {
    "collapsed": true
   },
   "outputs": [],
   "source": [
    "import numpy as np"
   ]
  },
  {
   "cell_type": "code",
   "execution_count": 35,
   "metadata": {},
   "outputs": [
    {
     "name": "stdout",
     "output_type": "stream",
     "text": [
      "number of x: 100 , estimation: 1.2665538316446456\n",
      "number of x: 1000 , estimation: 0.9832734367622763\n",
      "number of x: 10000 , estimation: 1.001740604990112\n",
      "number of x: 100000 , estimation: 1.000900876855382\n",
      "number of x: 10000000 , estimation: 0.9999617798338569\n"
     ]
    }
   ],
   "source": [
    "# from N(0,1)\n",
    "sigma = 1\n",
    "for i in [100,1000,10000,100000,1000000]:\n",
    "    X = np.random.normal(0,sigma,i)\n",
    "    print(\"number of x:\",i, \", estimation:\", np.mean(X**2))"
   ]
  },
  {
   "cell_type": "code",
   "execution_count": 49,
   "metadata": {},
   "outputs": [
    {
     "data": {
      "text/plain": [
       "(1.0000379935151051, 2.2279522075693075e-07)"
      ]
     },
     "execution_count": 49,
     "metadata": {},
     "output_type": "execute_result"
    }
   ],
   "source": [
    "# sample from different sigma\n",
    "def variance_estimator(sigma, numberOfX=100000, iteration_time=100):\n",
    "    estimations = []\n",
    "    for _ in range(iteration_time):\n",
    "        X = np.random.normal(0,sigma,i)\n",
    "        f = (X**2)*sigma*np.exp(-(sigma**2-1)*X**2/(2*sigma**2))\n",
    "        estimation = np.mean(f)\n",
    "        estimations.append(estimation)\n",
    "    # print(\"number of x: {}, estimation: {}\".format(i, np.mean(f)))\n",
    "    mean = np.mean(estimations)\n",
    "    variance = np.var(estimations)\n",
    "    return mean, variance\n",
    "variance_estimator(sigma = 1)"
   ]
  },
  {
   "cell_type": "code",
   "execution_count": 50,
   "metadata": {},
   "outputs": [
    {
     "name": "stdout",
     "output_type": "stream",
     "text": [
      "sigma:0.01, mean:8.210593829630204e-05, variance:2.2364802036310074e-08\n",
      "sigma:0.1, mean:0.06842984356642515, variance:0.025048488103325706\n",
      "sigma:0.5, mean:1.016706183451544, variance:0.08168964169234594\n",
      "sigma:1, mean:0.9999631599216096, variance:2.011821909233303e-07\n",
      "sigma:1.5, mean:1.0000370480729703, variance:3.634747176286688e-08\n",
      "sigma:3, mean:0.9999763461574909, variance:8.261775055197175e-08\n",
      "sigma:10, mean:0.9999847466776918, variance:4.945366944183748e-07\n",
      "sigma:50, mean:1.000026150754686, variance:1.8843677705643957e-06\n"
     ]
    }
   ],
   "source": [
    "for v in [0.01, 0.1, 0.5, 1, 1.5, 3, 10,50]:\n",
    "    mean, variance = variance_estimator(sigma=v)\n",
    "    print(\"sigma:{}, mean:{}, variance:{}\".format(v, mean, variance))"
   ]
  },
  {
   "cell_type": "markdown",
   "metadata": {},
   "source": [
    "# wheel"
   ]
  },
  {
   "cell_type": "code",
   "execution_count": 295,
   "metadata": {},
   "outputs": [
    {
     "name": "stdout",
     "output_type": "stream",
     "text": [
      "q = 0.5263157894736842\n",
      "percentage of (Yt=0): 134 / 1000 sampling by q(x)\n",
      "P(Yt=200): 5.025387915691253e-09\n"
     ]
    }
   ],
   "source": [
    "f_list = []\n",
    "P_list = []\n",
    "Q_list = []\n",
    "i_list = []\n",
    "P_Q_list = []\n",
    "N = 1000\n",
    "for _ in range(N):\n",
    "    y = 20\n",
    "    p = 18/38\n",
    "    q = 20/38\n",
    "    X = (np.random.binomial(1, q, 100000)-0.5)*2\n",
    "    done = 0\n",
    "    i = 0\n",
    "    while done==0: \n",
    "        y+=X[i]\n",
    "        i+=1\n",
    "        if y==0:\n",
    "            f_list.append(0)\n",
    "            done=1\n",
    "            N_P = sum(X[:i]==1)\n",
    "            N_N = sum(X[:i]==-1)\n",
    "            P = (p**N_P)*((1-p)**N_N)\n",
    "            Q = (q**N_P)*((1-q)**N_N)\n",
    "            P_list.append(P)\n",
    "            Q_list.append(Q)\n",
    "            i_list.append(i)\n",
    "        if y==200:\n",
    "            f_list.append(1)\n",
    "            done=1\n",
    "            N_P = sum(X[:i]==1)\n",
    "            N_N = sum(X[:i]==-1)\n",
    "            P = (p**N_P)*((1-p)**N_N)\n",
    "            Q = (q**N_P)*((1-q)**N_N)\n",
    "            P_Q = ((p/q)**N_P)*(((1-p)/(1-q))**N_N) # p/q\n",
    "            P_list.append(P)\n",
    "            Q_list.append(Q)\n",
    "            P_Q_list.append(P_Q)\n",
    "            i_list.append(i)\n",
    "print(\"q =\",q)\n",
    "print(\"percentage of (Yt=0):\",sum(np.array(f_list) == 0),\"/\",N, \"sampling by q(x)\")\n",
    "print(\"P(Yt=200):\", np.mean(np.array(f_list) * np.array(P_Q)))"
   ]
  },
  {
   "cell_type": "code",
   "execution_count": null,
   "metadata": {
    "collapsed": true
   },
   "outputs": [],
   "source": []
  }
 ],
 "metadata": {
  "kernelspec": {
   "display_name": "Python 3",
   "language": "python",
   "name": "python3"
  },
  "language_info": {
   "codemirror_mode": {
    "name": "ipython",
    "version": 3
   },
   "file_extension": ".py",
   "mimetype": "text/x-python",
   "name": "python",
   "nbconvert_exporter": "python",
   "pygments_lexer": "ipython3",
   "version": "3.5.2"
  }
 },
 "nbformat": 4,
 "nbformat_minor": 2
}
