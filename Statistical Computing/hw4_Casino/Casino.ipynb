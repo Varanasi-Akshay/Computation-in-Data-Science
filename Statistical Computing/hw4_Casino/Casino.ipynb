{
 "cells": [
  {
   "cell_type": "code",
   "execution_count": 2,
   "metadata": {
    "collapsed": true
   },
   "outputs": [],
   "source": [
    "import numpy as np"
   ]
  },
  {
   "cell_type": "markdown",
   "metadata": {},
   "source": [
    "#### 1.Compute the variance of standard normal\n",
    "That is computing: \n",
    "$\\int_{\\infty}^{\\infty }x^{2}\\frac{1}{\\sqrt{2\\pi }}e^{\\frac{-x^{2}} {2}}dx$, by a Monte Carlo method"
   ]
  },
  {
   "cell_type": "code",
   "execution_count": 3,
   "metadata": {},
   "outputs": [
    {
     "name": "stdout",
     "output_type": "stream",
     "text": [
      "number of x: 100 , estimation: 0.8082236811113174\n",
      "number of x: 1000 , estimation: 0.9893128781080254\n",
      "number of x: 10000 , estimation: 0.9946704980877302\n",
      "number of x: 100000 , estimation: 1.0010807692739678\n",
      "number of x: 1000000 , estimation: 1.0004483822572614\n"
     ]
    }
   ],
   "source": [
    "# sample from N(0,1)\n",
    "sigma = 1\n",
    "for i in [100,1000,10000,100000,1000000]:\n",
    "    X = np.random.normal(0,sigma,i)\n",
    "    print(\"number of x:\",i, \", estimation:\", np.mean(X**2))"
   ]
  },
  {
   "cell_type": "code",
   "execution_count": 4,
   "metadata": {},
   "outputs": [
    {
     "data": {
      "text/plain": [
       "(0.9998979528099292, 1.4597765261390495e-06)"
      ]
     },
     "execution_count": 4,
     "metadata": {},
     "output_type": "execute_result"
    }
   ],
   "source": [
    "# sample from different sigma\n",
    "def variance_estimator(sigma, numberOfX=100000, iteration_time=100):\n",
    "    estimations = []\n",
    "    for _ in range(iteration_time):\n",
    "        X = np.random.normal(0,sigma,i)\n",
    "        f = (X**2)*sigma*np.exp(-(sigma**2-1)*X**2/(2*sigma**2))\n",
    "        estimation = np.mean(f)\n",
    "        estimations.append(estimation)\n",
    "    # print(\"number of x: {}, estimation: {}\".format(i, np.mean(f)))\n",
    "    mean = np.mean(estimations)\n",
    "    variance = np.var(estimations)\n",
    "    return mean, variance\n",
    "variance_estimator(sigma = 1)"
   ]
  },
  {
   "cell_type": "code",
   "execution_count": 5,
   "metadata": {},
   "outputs": [
    {
     "name": "stdout",
     "output_type": "stream",
     "text": [
      "sigma:0.01, mean:9.70909544357788e-05, variance:1.8116143111006353e-07\n",
      "sigma:0.1, mean:0.08803155808067378, variance:0.07315033327925045\n",
      "sigma:0.5, mean:0.9995926641138834, variance:0.10521406123668178\n",
      "sigma:1, mean:0.9999283622636558, variance:1.766827475565314e-06\n",
      "sigma:1.5, mean:0.999925503502977, variance:6.646819273853507e-07\n",
      "sigma:3, mean:1.0000061628768078, variance:8.312046959347277e-07\n",
      "sigma:10, mean:0.9998902028719837, variance:3.6626277814395065e-06\n",
      "sigma:50, mean:1.0003604410965132, variance:3.3827143326401975e-05\n"
     ]
    }
   ],
   "source": [
    "for v in [0.01, 0.1, 0.5, 1, 1.5, 3, 10,50]:\n",
    "    mean, variance = variance_estimator(sigma=v)\n",
    "    print(\"sigma:{}, mean:{}, variance:{}\".format(v, mean, variance))"
   ]
  },
  {
   "cell_type": "markdown",
   "metadata": {},
   "source": [
    "#### 2. Casino & wheel"
   ]
  },
  {
   "cell_type": "markdown",
   "metadata": {},
   "source": [
    "$f(x) = \\frac {n}{N} = \\frac {1}{N}\\sum1\\{{Y_{t}=200}\\}$"
   ]
  },
  {
   "cell_type": "code",
   "execution_count": 6,
   "metadata": {},
   "outputs": [
    {
     "name": "stdout",
     "output_type": "stream",
     "text": [
      "q = 0.5263157894736842\n",
      "percentage of (Yt=0): 123 / 1000 sampling by q(x)\n",
      "P(Yt=200): 5.089220787599586e-09\n"
     ]
    }
   ],
   "source": [
    "f_list = []\n",
    "P_list = []\n",
    "Q_list = []\n",
    "i_list = []\n",
    "P_Q_list = []\n",
    "N = 1000\n",
    "for _ in range(N):\n",
    "    y = 20\n",
    "    p = 18/38\n",
    "    q = 20/38\n",
    "    X = (np.random.binomial(1, q, 100000)-0.5)*2\n",
    "    done = 0\n",
    "    i = 0\n",
    "    while done==0: \n",
    "        y+=X[i]\n",
    "        i+=1\n",
    "        if y==0:\n",
    "            f_list.append(0)\n",
    "            done=1\n",
    "            N_P = sum(X[:i]==1) # number of 1\n",
    "            N_N = sum(X[:i]==-1) # number of -1\n",
    "            P = (p**N_P)*((1-p)**N_N)\n",
    "            Q = (q**N_P)*((1-q)**N_N)\n",
    "            P_list.append(P)\n",
    "            Q_list.append(Q)\n",
    "            i_list.append(i)\n",
    "        if y==200:\n",
    "            f_list.append(1)\n",
    "            done=1\n",
    "            N_P = sum(X[:i]==1)\n",
    "            N_N = sum(X[:i]==-1)\n",
    "            P = (p**N_P)*((1-p)**N_N)\n",
    "            Q = (q**N_P)*((1-q)**N_N)\n",
    "            P_Q = ((p/q)**N_P)*(((1-p)/(1-q))**N_N) # p/q\n",
    "            P_list.append(P)\n",
    "            Q_list.append(Q)\n",
    "            P_Q_list.append(P_Q)\n",
    "            i_list.append(i)\n",
    "print(\"q =\",q)\n",
    "print(\"percentage of (Yt=0):\",sum(np.array(f_list) == 0),\"/\",N, \"sampling by q(x)\")\n",
    "print(\"P(Yt=200):\", np.mean(np.array(f_list) * np.array(P_Q)))"
   ]
  },
  {
   "cell_type": "code",
   "execution_count": null,
   "metadata": {
    "collapsed": true
   },
   "outputs": [],
   "source": []
  }
 ],
 "metadata": {
  "kernelspec": {
   "display_name": "Python 3",
   "language": "python",
   "name": "python3"
  },
  "language_info": {
   "codemirror_mode": {
    "name": "ipython",
    "version": 3
   },
   "file_extension": ".py",
   "mimetype": "text/x-python",
   "name": "python",
   "nbconvert_exporter": "python",
   "pygments_lexer": "ipython3",
   "version": "3.5.2"
  }
 },
 "nbformat": 4,
 "nbformat_minor": 2
}
