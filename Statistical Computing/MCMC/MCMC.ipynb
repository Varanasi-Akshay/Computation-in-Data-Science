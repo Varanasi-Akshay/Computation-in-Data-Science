{
 "cells": [
  {
   "cell_type": "code",
   "execution_count": 1,
   "metadata": {
    "collapsed": true
   },
   "outputs": [],
   "source": [
    "import random\n",
    "import collections\n",
    "import numpy as np"
   ]
  },
  {
   "cell_type": "markdown",
   "metadata": {},
   "source": [
    "# Metropolis-Hastings Sampler"
   ]
  },
  {
   "cell_type": "code",
   "execution_count": null,
   "metadata": {
    "collapsed": true
   },
   "outputs": [],
   "source": [
    "# import random\n",
    "# import collections\n",
    "\n",
    "# def metrosamp(ITER):\n",
    "#     P = {0: 0.2, 1: 0.8}\n",
    "#     Q = {1: 0, 0: 1}\n",
    "#     X = []\n",
    "#     xt = 0\n",
    "#     for i in range(ITER):\n",
    "#         xtp1 = Q[xt]\n",
    "#         alpha = min(1., P[xtp1] / P[xt])\n",
    "#         if random.random() <= alpha:\n",
    "#             xt = xtp1\n",
    "#         X.append(xt)\n",
    "#     return X\n",
    "\n",
    "\n",
    "# def count(X):\n",
    "#     counter = collections.Counter(X)\n",
    "#     for key in counter:\n",
    "#         print (key, counter[key])"
   ]
  },
  {
   "cell_type": "code",
   "execution_count": 47,
   "metadata": {
    "collapsed": true
   },
   "outputs": [],
   "source": [
    "def metrosamp(ITER):\n",
    "    P = {0: 0.2, 1: 0.8}\n",
    "#     Q = {1: 0, 0: 1}\n",
    "    Q = [[0,1], [1,0]]\n",
    "    Q_ = [[0,1], [1,0]]\n",
    "    X = []\n",
    "    xt = 0\n",
    "    for i in range(ITER):\n",
    "        if random.random() < Q[xt][1-xt]:\n",
    "            xtp1 = 1-xt\n",
    "        else:\n",
    "            xtp1 = xt\n",
    "        alpha = min(1., P[xtp1] / P[xt])\n",
    "        Q_[xt][xtp1] = alpha\n",
    "        Q_[xt][xt] = 1- alpha\n",
    "        if random.random() <= alpha:\n",
    "            xt = xtp1\n",
    "        X.append(xt)\n",
    "    return X, Q_\n",
    "\n",
    "def count(X):\n",
    "    counter = collections.Counter(X)\n",
    "    for key in counter:\n",
    "        print (key,\":\", counter[key])"
   ]
  },
  {
   "cell_type": "code",
   "execution_count": 48,
   "metadata": {
    "scrolled": true
   },
   "outputs": [
    {
     "name": "stdout",
     "output_type": "stream",
     "text": [
      "transition matrix:\n",
      " [[ 0.    1.  ]\n",
      " [ 0.25  0.75]]\n",
      "output count:\n",
      "1 : 803\n",
      "0 : 197\n"
     ]
    }
   ],
   "source": [
    "x, Q= metrosamp(1000)\n",
    "\n",
    "print(\"transition matrix:\\n\",np.array(Q))\n",
    "print(\"output count:\")\n",
    "count(x)"
   ]
  },
  {
   "cell_type": "code",
   "execution_count": 77,
   "metadata": {
    "collapsed": true
   },
   "outputs": [],
   "source": [
    "import numpy as np\n",
    "import random\n",
    "import collections\n",
    "import matplotlib.pyplot as plt\n",
    "import math\n",
    "import scipy.stats\n",
    "% matplotlib inline\n",
    "# Gamma distribution\n",
    "def p_func_raw(x, a, b):\n",
    "    S1 = ((b ** a) / math.gamma(a))\n",
    "    S2 = x ** (a - 1)\n",
    "    S3 = math.exp(-b * x)\n",
    "    return S1 * S2 * S3  # * S4\n",
    "\n",
    "# Gamma(x,2,1) \n",
    "def p_func(y):\n",
    "    return p_func_raw(y, 2, 1)\n",
    "\n",
    "# generate aj\n",
    "def q_func(beta):\n",
    "    return np.random.exponential(beta) # generate state\n",
    "\n",
    "# compute correction factor\n",
    "def q_func_pdf(x, beta):\n",
    "    return scipy.stats.expon.pdf(x, scale=beta) # generate probability\n",
    "\n",
    "def metrohast(M):\n",
    "    X = []\n",
    "    beta = 5.\n",
    "    xt = beta\n",
    "    for i in range(M):\n",
    "        aj = q_func(beta)\n",
    "        c = q_func_pdf(xt, beta) / q_func_pdf(aj, beta) # correction factor\n",
    "        alpha = min(1., (p_func(aj) / p_func(xt)) * c)\n",
    "        if random.random() <= alpha:\n",
    "            xt = aj\n",
    "        X.append(xt)\n",
    "    return X\n",
    "\n",
    "def draw(S):\n",
    "    n, bins, patches = plt.hist(S, 100, normed=1, facecolor='b', alpha=0.2)\n",
    "    plt.plot(bins, [p_func(x) for x in bins], color='r')\n",
    "    plt.show()"
   ]
  },
  {
   "cell_type": "code",
   "execution_count": 2,
   "metadata": {},
   "outputs": [
    {
     "name": "stderr",
     "output_type": "stream",
     "text": [
      "/home/thtang/.local/lib/python3.5/site-packages/matplotlib/axes/_axes.py:6462: UserWarning: The 'normed' kwarg is deprecated, and has been replaced by the 'density' kwarg.\n",
      "  warnings.warn(\"The 'normed' kwarg is deprecated, and has been \"\n"
     ]
    },
    {
     "data": {
      "image/png": "[encoded data removed]",
      "text/plain": [
       "<Figure size 432x288 with 1 Axes>"
      ]
     },
     "metadata": {},
     "output_type": "display_data"
    }
   ],
   "source": [
    "X = metrohast(10000)\n",
    "draw(X)"
   ]
  },
  {
   "cell_type": "markdown",
   "metadata": {},
   "source": [
    "reference : http://cpmarkchang.logdown.com/posts/737249-pgm-metropolis-hasting"
   ]
  },
  {
   "cell_type": "markdown",
   "metadata": {},
   "source": [
    "#### 1. sample for  the cauchy distributionbr<br>\n",
    "$f(x)=\\frac{1}{\\pi(1+x^{2})}$"
   ]
  },
  {
   "cell_type": "code",
   "execution_count": 59,
   "metadata": {},
   "outputs": [
    {
     "name": "stderr",
     "output_type": "stream",
     "text": [
      "/home/thtang/.local/lib/python3.5/site-packages/matplotlib/axes/_axes.py:6462: UserWarning: The 'normed' kwarg is deprecated, and has been replaced by the 'density' kwarg.\n",
      "  warnings.warn(\"The 'normed' kwarg is deprecated, and has been \"\n"
     ]
    },
    {
     "data": {
      "image/png": "[encoded data removed]",
      "text/plain": [
       "<Figure size 432x288 with 1 Axes>"
      ]
     },
     "metadata": {},
     "output_type": "display_data"
    }
   ],
   "source": [
    "# random-walk Metropolis\n",
    "# q is symmetric, 所以會消掉。 acceptance prob. 剩 f ratio\n",
    "def std_cauchy_pdf(x):\n",
    "    return 1/(np.pi*(1+x**2))\n",
    "\n",
    "max_iter = 40000\n",
    "chain = [0]\n",
    "for i in range(max_iter):\n",
    "    proposal = chain[i] + np.random.uniform(low=-1,high=1)\n",
    "    accept = np.random.uniform() < min(1, (std_cauchy_pdf(proposal)/std_cauchy_pdf(chain[i])))\n",
    "    if accept == True:\n",
    "        chain.append(proposal)\n",
    "    else:\n",
    "        chain.append(chain[i])\n",
    "\n",
    "n, bins, patches = plt.hist(chain, 1000, normed=1, facecolor='b', alpha=0.2)\n",
    "plt.plot(bins, [std_cauchy_pdf(x) for x in bins], color='r') # pdf from package\n",
    "# plt.xlim(-5,5)\n",
    "plt.show()"
   ]
  },
  {
   "cell_type": "code",
   "execution_count": 61,
   "metadata": {},
   "outputs": [
    {
     "name": "stderr",
     "output_type": "stream",
     "text": [
      "/home/thtang/.local/lib/python3.5/site-packages/matplotlib/axes/_axes.py:6462: UserWarning: The 'normed' kwarg is deprecated, and has been replaced by the 'density' kwarg.\n",
      "  warnings.warn(\"The 'normed' kwarg is deprecated, and has been \"\n"
     ]
    },
    {
     "data": {
      "text/plain": [
       "Text(0.5,0.98,'Metropolis_Hastings for MCMC')"
      ]
     },
     "execution_count": 61,
     "metadata": {},
     "output_type": "execute_result"
    },
    {
     "data": {
      "image/png": "[encoded data removed]",
      "text/plain": [
       "<Figure size 432x288 with 4 Axes>"
      ]
     },
     "metadata": {},
     "output_type": "display_data"
    }
   ],
   "source": [
    "def q(x_star,x):\n",
    " #normal distribution centered at the current value\n",
    "    mu=x\n",
    "    sigma=10\n",
    "    return 1/(math.pi*2)**0.5/sigma*np.exp(-(x_star-mu)**2/2/sigma**2) \n",
    "\n",
    "def p(x): #target distribution\n",
    "    return 0.3*np.exp(-0.2*x**2)+0.7*np.exp(-0.2*(x-10)**2)\n",
    "    \n",
    "N = [100,500,1000,50000]\n",
    "fig = plt.figure()\n",
    "for i in range(4):\n",
    "    X = np.array([])\n",
    "    x = 0.1 #initialize x0 to be 0.1\n",
    "    for j in range(N[i]):\n",
    "        u = np.random.rand()\n",
    "        x_star = np.random.normal(x,10) # 以上一點 x 為中心做 normal 抽樣\n",
    "        A = min(1,p(x_star)*q(x,x_star)/p(x)/q(x_star,x)) # q(x,x_star) = q(x|x_star)\n",
    "        if u < A:\n",
    "            x = x_star\n",
    "        X=np.hstack((X,x))\n",
    "    ax = fig.add_subplot(2,2,i+1)\n",
    "    ax.hist(X,bins=100,normed=True)\n",
    "    x = np.linspace(-10,20,5000)\n",
    "    ax.plot(x,p(x)/2.7) #2.7 is just a number that approximates the normalizing constant\n",
    "    ax.set_ylim(0,0.35)\n",
    "    ax.text(-9,0.25,'I=%d'%N[i])\n",
    "fig.suptitle('Metropolis_Hastings for MCMC')"
   ]
  },
  {
   "cell_type": "code",
   "execution_count": null,
   "metadata": {
    "collapsed": true
   },
   "outputs": [],
   "source": []
  }
 ],
 "metadata": {
  "kernelspec": {
   "display_name": "Python 3",
   "language": "python",
   "name": "python3"
  },
  "language_info": {
   "codemirror_mode": {
    "name": "ipython",
    "version": 3
   },
   "file_extension": ".py",
   "mimetype": "text/x-python",
   "name": "python",
   "nbconvert_exporter": "python",
   "pygments_lexer": "ipython3",
   "version": "3.6.2"
  }
 },
 "nbformat": 4,
 "nbformat_minor": 2
}
