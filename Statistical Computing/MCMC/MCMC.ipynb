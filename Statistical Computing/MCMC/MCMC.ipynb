{
 "cells": [
  {
   "cell_type": "code",
   "execution_count": 15,
   "metadata": {
    "collapsed": true
   },
   "outputs": [],
   "source": [
    "import random\n",
    "import collections\n",
    "import numpy as np\n",
    "import matplotlib.pyplot as plt\n",
    "import matplotlib.mlab as mlab\n",
    "import math\n",
    "% matplotlib inline"
   ]
  },
  {
   "cell_type": "markdown",
   "metadata": {},
   "source": [
    "#### 1. acceptance-rejection method"
   ]
  },
  {
   "cell_type": "markdown",
   "metadata": {},
   "source": [
    "generate Z~N(0,1) using exp(1)\n",
    "PDF of $|Z| = \\frac {2} {\\sqrt{2\\pi}}e^{\\frac{-x^{2}}{2}}=f(x)$, for $x\\geq0$ <br>\n",
    "Let $g(x)=e^{-x}$"
   ]
  },
  {
   "cell_type": "code",
   "execution_count": 16,
   "metadata": {},
   "outputs": [
    {
     "ename": "NameError",
     "evalue": "name 'z' is not defined",
     "output_type": "error",
     "traceback": [
      "\u001b[1;31m---------------------------------------------------------------------------\u001b[0m",
      "\u001b[1;31mNameError\u001b[0m                                 Traceback (most recent call last)",
      "\u001b[1;32m<ipython-input-16-a5ae012083d9>\u001b[0m in \u001b[0;36m<module>\u001b[1;34m()\u001b[0m\n\u001b[0;32m     17\u001b[0m         \u001b[0msamples\u001b[0m\u001b[1;33m.\u001b[0m\u001b[0mappend\u001b[0m\u001b[1;33m(\u001b[0m\u001b[0mz\u001b[0m\u001b[1;33m)\u001b[0m\u001b[1;33m\u001b[0m\u001b[0m\n\u001b[0;32m     18\u001b[0m     \u001b[1;32melse\u001b[0m\u001b[1;33m:\u001b[0m\u001b[1;33m\u001b[0m\u001b[0m\n\u001b[1;32m---> 19\u001b[1;33m         \u001b[0msamples\u001b[0m\u001b[1;33m.\u001b[0m\u001b[0mappend\u001b[0m\u001b[1;33m(\u001b[0m\u001b[1;33m-\u001b[0m\u001b[0mz\u001b[0m\u001b[1;33m)\u001b[0m\u001b[1;33m\u001b[0m\u001b[0m\n\u001b[0m",
      "\u001b[1;31mNameError\u001b[0m: name 'z' is not defined"
     ]
    }
   ],
   "source": [
    "def g(x):\n",
    "    return np.exp(-x)\n",
    "def f(x):\n",
    "    return (1/np.sqrt(2*np.pi))*np.exp(-x**2/2)\n",
    "\n",
    "sample_counts = 10000\n",
    "samples = []\n",
    "for _ in range(sample_counts):\n",
    "    # draw Y under exponential dist.\n",
    "    y = np.random.exponential(1)\n",
    "    M = 2 \n",
    "    U = np.random.uniform(0,1)\n",
    "    if U<f(y)/(M*g(y)):\n",
    "        z = abs(y)\n",
    "    U = np.random.uniform(0,1)\n",
    "    if U > 0.5:\n",
    "        samples.append(z)\n",
    "    else:\n",
    "        samples.append(-z)"
   ]
  },
  {
   "cell_type": "code",
   "execution_count": null,
   "metadata": {
    "collapsed": true
   },
   "outputs": [],
   "source": [
    "mu = 0\n",
    "variance = 1\n",
    "sigma = math.sqrt(variance)\n",
    "x = np.linspace(mu - 3*sigma, mu + 3*sigma, 100)\n",
    "plt.plot(x,mlab.normpdf(x, mu, sigma), label=\"ground truth\")\n",
    "plt.hist(samples,bins=100, normed=True, label=\"samples' histogram\")\n",
    "plt.title(\"sample N(0,1) using Expo(1)\")\n",
    "plt.legend()\n",
    "plt.show()\n"
   ]
  },
  {
   "cell_type": "markdown",
   "metadata": {},
   "source": [
    "#### Metropolis-Hastings Sampler"
   ]
  },
  {
   "cell_type": "code",
   "execution_count": 3,
   "metadata": {
    "collapsed": true
   },
   "outputs": [],
   "source": [
    "# import random\n",
    "# import collections\n",
    "\n",
    "# def metrosamp(ITER):\n",
    "#     P = {0: 0.2, 1: 0.8}\n",
    "#     Q = {1: 0, 0: 1}\n",
    "#     X = []\n",
    "#     xt = 0\n",
    "#     for i in range(ITER):\n",
    "#         xtp1 = Q[xt]\n",
    "#         alpha = min(1., P[xtp1] / P[xt])\n",
    "#         if random.random() <= alpha:\n",
    "#             xt = xtp1\n",
    "#         X.append(xt)\n",
    "#     return X\n",
    "\n",
    "\n",
    "# def count(X):\n",
    "#     counter = collections.Counter(X)\n",
    "#     for key in counter:\n",
    "#         print (key, counter[key])"
   ]
  },
  {
   "cell_type": "code",
   "execution_count": 4,
   "metadata": {
    "collapsed": true
   },
   "outputs": [],
   "source": [
    "def metrosamp(ITER):\n",
    "    P = {0: 0.2, 1: 0.8}\n",
    "#     Q = {1: 0, 0: 1}\n",
    "    Q = [[0,1], [1,0]]\n",
    "    Q_ = [[0,1], [1,0]]\n",
    "    X = []\n",
    "    xt = 0\n",
    "    for i in range(ITER):\n",
    "        if random.random() < Q[xt][1-xt]:\n",
    "            xtp1 = 1-xt\n",
    "        else:\n",
    "            xtp1 = xt\n",
    "        alpha = min(1., P[xtp1] / P[xt])\n",
    "        Q_[xt][xtp1] = alpha\n",
    "        Q_[xt][xt] = 1- alpha\n",
    "        if random.random() <= alpha:\n",
    "            xt = xtp1\n",
    "        X.append(xt)\n",
    "    return X, Q_\n",
    "\n",
    "def count(X):\n",
    "    counter = collections.Counter(X)\n",
    "    for key in counter:\n",
    "        print (key,\":\", counter[key])"
   ]
  },
  {
   "cell_type": "code",
   "execution_count": 5,
   "metadata": {
    "scrolled": true
   },
   "outputs": [
    {
     "name": "stdout",
     "output_type": "stream",
     "text": [
      "transition matrix:\n",
      " [[ 0.    1.  ]\n",
      " [ 0.25  0.75]]\n",
      "output count:\n",
      "1 : 792\n",
      "0 : 208\n"
     ]
    }
   ],
   "source": [
    "x, Q= metrosamp(1000)\n",
    "\n",
    "print(\"transition matrix:\\n\",np.array(Q))\n",
    "print(\"output count:\")\n",
    "count(x)"
   ]
  },
  {
   "cell_type": "markdown",
   "metadata": {},
   "source": [
    "#### Generate gamma distribution"
   ]
  },
  {
   "cell_type": "code",
   "execution_count": 6,
   "metadata": {
    "collapsed": true
   },
   "outputs": [],
   "source": [
    "import numpy as np\n",
    "import random\n",
    "import collections\n",
    "import matplotlib.pyplot as plt\n",
    "import math\n",
    "import scipy.stats\n",
    "% matplotlib inline\n",
    "\n",
    "# Gamma distribution\n",
    "def p_func_raw(x, a, b):\n",
    "    S1 = ((b ** a) / math.gamma(a))\n",
    "    S2 = x ** (a - 1)\n",
    "    S3 = math.exp(-b * x)\n",
    "    return S1 * S2 * S3  # * S4\n",
    "\n",
    "# Gamma(x,2,1) \n",
    "def p_func(y):\n",
    "    return p_func_raw(y, 2, 1)\n",
    "\n",
    "# proposed distribution is exponantial distribution\n",
    "# generate aj\n",
    "def q_func(beta):\n",
    "    return np.random.exponential(beta) # generate proposed state\n",
    "\n",
    "# compute correction factor\n",
    "def q_func_pdf(x, beta):\n",
    "    return scipy.stats.expon.pdf(x, scale=beta) # generate probability\n",
    "\n",
    "def metrohast(M):\n",
    "    X = []\n",
    "    beta = 5.\n",
    "    xt = beta\n",
    "    for i in range(M):\n",
    "        aj = q_func(beta)\n",
    "        c = q_func_pdf(xt, beta) / q_func_pdf(aj, beta) # correction factor\n",
    "        alpha = min(1., (p_func(aj) / p_func(xt)) * c)\n",
    "        if random.random() <= alpha:\n",
    "            xt = aj\n",
    "        X.append(xt)\n",
    "    return X\n",
    "\n",
    "def draw(S):\n",
    "    n, bins, patches = plt.hist(S, 100, normed=1, facecolor='b', alpha=0.2)\n",
    "    \n",
    "    plt.plot(bins, [p_func(x) for x in bins], color='r')\n",
    "    plt.show()"
   ]
  },
  {
   "cell_type": "code",
   "execution_count": 7,
   "metadata": {},
   "outputs": [
    {
     "data": {
      "image/png": "[encoded data removed]",
      "text/plain": [
       "<matplotlib.figure.Figure at 0x27fff0e4080>"
      ]
     },
     "metadata": {},
     "output_type": "display_data"
    }
   ],
   "source": [
    "X = metrohast(10000)\n",
    "draw(X)"
   ]
  },
  {
   "cell_type": "markdown",
   "metadata": {},
   "source": [
    "reference : http://cpmarkchang.logdown.com/posts/737249-pgm-metropolis-hasting"
   ]
  },
  {
   "cell_type": "markdown",
   "metadata": {},
   "source": [
    "#### 1. sample for  the cauchy distributionbr<br>\n",
    "$f(x)=\\frac{1}{\\pi(1+x^{2})}$"
   ]
  },
  {
   "cell_type": "code",
   "execution_count": 8,
   "metadata": {},
   "outputs": [
    {
     "data": {
      "image/png": "[encoded data removed]",
      "text/plain": [
       "<matplotlib.figure.Figure at 0x27fffdc8e10>"
      ]
     },
     "metadata": {},
     "output_type": "display_data"
    }
   ],
   "source": [
    "# random-walk Metropolis\n",
    "# q is symmetric, 所以會消掉。 acceptance prob. 剩 f ratio\n",
    "def std_cauchy_pdf(x):\n",
    "    return 1/(np.pi*(1+x**2))\n",
    "\n",
    "max_iter = 40000\n",
    "chain = [0]\n",
    "for i in range(max_iter):\n",
    "    proposal = chain[i] + np.random.uniform(low=-1,high=1)\n",
    "    if np.random.uniform() < min(1, (std_cauchy_pdf(proposal)/std_cauchy_pdf(chain[i]))):\n",
    "        chain.append(proposal)\n",
    "    else:\n",
    "        chain.append(chain[i])\n",
    "\n",
    "n, bins, patches = plt.hist(chain, 1000, normed=1, facecolor='b', alpha=0.2)\n",
    "plt.plot(bins, [std_cauchy_pdf(x) for x in bins], color='r') # pdf from package\n",
    "# plt.xlim(-5,5)\n",
    "plt.show()"
   ]
  },
  {
   "cell_type": "code",
   "execution_count": 14,
   "metadata": {},
   "outputs": [
    {
     "data": {
      "image/png": "[encoded data removed]",
      "text/plain": [
       "<matplotlib.figure.Figure at 0x27f83798a58>"
      ]
     },
     "metadata": {},
     "output_type": "display_data"
    }
   ],
   "source": [
    "# sample weird functikon\n",
    "def q(x_star,x):\n",
    " #normal distribution centered at the current value\n",
    "    mu=x\n",
    "    sigma=10\n",
    "    return 1/(math.pi*2)**0.5/sigma*np.exp(-(x_star-mu)**2/2/sigma**2) \n",
    "\n",
    "def p(x): #target distribution\n",
    "    return 0.3*np.exp(-0.2*x**2)+0.7*np.exp(-0.2*(x-10)**2)\n",
    "    \n",
    "N = [100,500,1000,50000]\n",
    "fig = plt.figure(figsize=(10,5))\n",
    "for i in range(4):\n",
    "    X = np.array([])\n",
    "    x = 0.1 #initialize x0 to be 0.1\n",
    "    for j in range(N[i]):\n",
    "        u = np.random.rand()\n",
    "        x_star = np.random.normal(x,10) # 以上一點 x 為中心做 normal 抽樣\n",
    "        A = min(1,p(x_star)*q(x,x_star)/p(x)/q(x_star,x)) # q(x,x_star) = q(x|x_star)\n",
    "        if u < A:\n",
    "            x = x_star\n",
    "        X=np.hstack((X,x))\n",
    "    ax = fig.add_subplot(2,2,i+1)\n",
    "    ax.hist(X,bins=100,normed=True)\n",
    "    x = np.linspace(-10,20,5000)\n",
    "    ax.plot(x,p(x)/4) #2.7 is just a number that approximates the normalizing constant\n",
    "    ax.set_ylim(0,0.35)\n",
    "    ax.text(-9,0.25,'I=%d'%N[i])\n",
    "fig.suptitle('Metropolis_Hastings for MCMC')\n",
    "plt.show()"
   ]
  },
  {
   "cell_type": "code",
   "execution_count": null,
   "metadata": {
    "collapsed": true
   },
   "outputs": [],
   "source": []
  }
 ],
 "metadata": {
  "kernelspec": {
   "display_name": "Python 3",
   "language": "python",
   "name": "python3"
  },
  "language_info": {
   "codemirror_mode": {
    "name": "ipython",
    "version": 3
   },
   "file_extension": ".py",
   "mimetype": "text/x-python",
   "name": "python",
   "nbconvert_exporter": "python",
   "pygments_lexer": "ipython3",
   "version": "3.6.2"
  }
 },
 "nbformat": 4,
 "nbformat_minor": 2
}
