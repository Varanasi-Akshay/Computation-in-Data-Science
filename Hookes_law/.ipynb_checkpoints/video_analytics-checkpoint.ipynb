{
 "cells": [
  {
   "cell_type": "code",
   "execution_count": 1,
   "metadata": {
    "collapsed": true
   },
   "outputs": [],
   "source": [
    "import os, sys\n",
    "import numpy as np\n",
    "import cv2\n",
    "import scipy\n",
    "import moviepy.editor as mpe\n",
    "from moviepy.video.io.bindings import mplfig_to_npimage\n",
    "\n",
    "from matplotlib import pyplot as plt\n",
    "\n",
    "%matplotlib inline\n",
    "\n",
    "from scipy.sparse.linalg import svds\n",
    "# np.set_printoptions(precision=4, linewidth=100)"
   ]
  },
  {
   "cell_type": "code",
   "execution_count": 3,
   "metadata": {
    "collapsed": true
   },
   "outputs": [],
   "source": [
    "left = np.load(\"./object-tracker-master/video_3_left_s.mp4.npy\") # flash threshold 256239190\n",
    "mid = np.load(\"./object-tracker-master/video_3_mid_s.mp4.npy\") # 482286005\n",
    "right = np.load(\"./object-tracker-master/video_3_right_s.mp4.npy\")"
   ]
  },
  {
   "cell_type": "code",
   "execution_count": 4,
   "metadata": {},
   "outputs": [
    {
     "name": "stdout",
     "output_type": "stream",
     "text": [
      "(644, 2)\n",
      "(626, 2)\n",
      "(683, 2)\n"
     ]
    }
   ],
   "source": [
    "print(left.shape)\n",
    "print(mid.shape)\n",
    "print(right.shape)"
   ]
  },
  {
   "cell_type": "code",
   "execution_count": 7,
   "metadata": {},
   "outputs": [],
   "source": [
    "left = np.load(\"./video/video_4_left_m.mp4.npy\") # flash threshold 256239190\n",
    "mid = np.load(\"./video/video_4_mid_m.mp4.npy\") # 482286005\n",
    "right = np.load(\"./video/video_4_top_m.mp4.npy\")"
   ]
  },
  {
   "cell_type": "code",
   "execution_count": 8,
   "metadata": {},
   "outputs": [
    {
     "name": "stdout",
     "output_type": "stream",
     "text": [
      "(770, 2)\n",
      "(754, 2)\n",
      "(731, 2)\n"
     ]
    }
   ],
   "source": [
    "print(left.shape)\n",
    "print(mid.shape)\n",
    "print(right.shape)"
   ]
  },
  {
   "cell_type": "code",
   "execution_count": null,
   "metadata": {
    "collapsed": true
   },
   "outputs": [],
   "source": []
  }
 ],
 "metadata": {
  "kernelspec": {
   "display_name": "Python 3",
   "language": "python",
   "name": "python3"
  },
  "language_info": {
   "codemirror_mode": {
    "name": "ipython",
    "version": 3
   },
   "file_extension": ".py",
   "mimetype": "text/x-python",
   "name": "python",
   "nbconvert_exporter": "python",
   "pygments_lexer": "ipython3",
   "version": "3.6.3"
  }
 },
 "nbformat": 4,
 "nbformat_minor": 2
}
