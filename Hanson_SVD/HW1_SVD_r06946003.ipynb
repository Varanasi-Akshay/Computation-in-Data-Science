{
 "cells": [
  {
   "cell_type": "markdown",
   "metadata": {},
   "source": [
    "# Matrix Factorization via Singular Value Decomposition\n",
    "\n",
    "SVD is an algorithm that decomposes a matrix $R$ into the best lower rank (i.e. smaller/simpler) approximation of the original matrix $R$. Mathematically, it decomposes R into a two unitary matrices and a diagonal matrix:\n",
    "\n",
    "$$\\begin{equation}\n",
    "R = U\\Sigma V^{T}\n",
    "\\end{equation}$$\n",
    "\n",
    "where R is users's ratings matrix, $U$ is the user \"features\" matrix, $\\Sigma$ is the diagonal matrix of singular values (essentially weights), and $V^{T}$ is the movie \"features\" matrix. $U$ and $V^{T}$ are orthogonal, and represent different things. $U$ represents how much users \"like\" each feature and $V^{T}$ represents how relevant each feature is to each movie.\n",
    "\n",
    "To get the lower rank approximation, we take these matrices and keep only the top $k$ features, which we think of as the underlying tastes and preferences vectors.\n"
   ]
  },
  {
   "cell_type": "code",
   "execution_count": 1,
   "metadata": {
    "collapsed": true
   },
   "outputs": [],
   "source": [
    "import pandas as pd\n",
    "import numpy as np\n",
    "import matplotlib.pyplot as plt\n",
    "import seaborn as sns\n",
    "%matplotlib inline\n",
    "sns.set(context='paper', style='darkgrid', rc={'figure.facecolor':'white'}, font_scale=1.2)"
   ]
  },
  {
   "cell_type": "code",
   "execution_count": null,
   "metadata": {
    "collapsed": true
   },
   "outputs": [],
   "source": []
  },
  {
   "cell_type": "markdown",
   "metadata": {},
   "source": [
    "# Get Data"
   ]
  },
  {
   "cell_type": "markdown",
   "metadata": {},
   "source": [
    "Get data from [MovieLens](https://grouplens.org/datasets/movielens/). Download MoiveLens 1M dataset and put it in `./dataset`"
   ]
  },
  {
   "cell_type": "code",
   "execution_count": 2,
   "metadata": {
    "scrolled": true
   },
   "outputs": [
    {
     "data": {
      "text/html": [
       "<div>\n",
       "<style>\n",
       "    .dataframe thead tr:only-child th {\n",
       "        text-align: right;\n",
       "    }\n",
       "\n",
       "    .dataframe thead th {\n",
       "        text-align: left;\n",
       "    }\n",
       "\n",
       "    .dataframe tbody tr th {\n",
       "        vertical-align: top;\n",
       "    }\n",
       "</style>\n",
       "<table border=\"1\" class=\"dataframe\">\n",
       "  <thead>\n",
       "    <tr style=\"text-align: right;\">\n",
       "      <th></th>\n",
       "      <th>UserID</th>\n",
       "      <th>MovieID</th>\n",
       "      <th>Rating</th>\n",
       "      <th>Timestamp</th>\n",
       "    </tr>\n",
       "  </thead>\n",
       "  <tbody>\n",
       "    <tr>\n",
       "      <th>0</th>\n",
       "      <td>1</td>\n",
       "      <td>1193</td>\n",
       "      <td>5</td>\n",
       "      <td>978300760</td>\n",
       "    </tr>\n",
       "    <tr>\n",
       "      <th>1</th>\n",
       "      <td>1</td>\n",
       "      <td>661</td>\n",
       "      <td>3</td>\n",
       "      <td>978302109</td>\n",
       "    </tr>\n",
       "    <tr>\n",
       "      <th>2</th>\n",
       "      <td>1</td>\n",
       "      <td>914</td>\n",
       "      <td>3</td>\n",
       "      <td>978301968</td>\n",
       "    </tr>\n",
       "    <tr>\n",
       "      <th>3</th>\n",
       "      <td>1</td>\n",
       "      <td>3408</td>\n",
       "      <td>4</td>\n",
       "      <td>978300275</td>\n",
       "    </tr>\n",
       "    <tr>\n",
       "      <th>4</th>\n",
       "      <td>1</td>\n",
       "      <td>2355</td>\n",
       "      <td>5</td>\n",
       "      <td>978824291</td>\n",
       "    </tr>\n",
       "  </tbody>\n",
       "</table>\n",
       "</div>"
      ],
      "text/plain": [
       "   UserID  MovieID  Rating  Timestamp\n",
       "0       1     1193       5  978300760\n",
       "1       1      661       3  978302109\n",
       "2       1      914       3  978301968\n",
       "3       1     3408       4  978300275\n",
       "4       1     2355       5  978824291"
      ]
     },
     "execution_count": 2,
     "metadata": {},
     "output_type": "execute_result"
    }
   ],
   "source": [
    "# Ratings\n",
    "ratings_df = pd.read_csv('./dataset/ratings.dat', sep=\"::\", header=None, \n",
    "                         names=['UserID', 'MovieID', 'Rating', 'Timestamp'], dtype=int, \n",
    "                         engine='python')\n",
    "ratings_df.head()"
   ]
  },
  {
   "cell_type": "code",
   "execution_count": 3,
   "metadata": {},
   "outputs": [
    {
     "data": {
      "text/plain": [
       "array([1, 2, 3, 4, 5])"
      ]
     },
     "execution_count": 3,
     "metadata": {},
     "output_type": "execute_result"
    }
   ],
   "source": [
    "np.unique(ratings_df['Rating'].values)"
   ]
  },
  {
   "cell_type": "code",
   "execution_count": 4,
   "metadata": {},
   "outputs": [
    {
     "data": {
      "text/plain": [
       "(6040,)"
      ]
     },
     "execution_count": 4,
     "metadata": {},
     "output_type": "execute_result"
    }
   ],
   "source": [
    "ratings_df['UserID'].unique().shape"
   ]
  },
  {
   "cell_type": "code",
   "execution_count": 5,
   "metadata": {
    "scrolled": true
   },
   "outputs": [
    {
     "data": {
      "text/plain": [
       "(1000209, 4)"
      ]
     },
     "execution_count": 5,
     "metadata": {},
     "output_type": "execute_result"
    }
   ],
   "source": [
    "ratings_df.shape"
   ]
  },
  {
   "cell_type": "code",
   "execution_count": 6,
   "metadata": {
    "scrolled": true
   },
   "outputs": [
    {
     "data": {
      "text/html": [
       "<div>\n",
       "<style>\n",
       "    .dataframe thead tr:only-child th {\n",
       "        text-align: right;\n",
       "    }\n",
       "\n",
       "    .dataframe thead th {\n",
       "        text-align: left;\n",
       "    }\n",
       "\n",
       "    .dataframe tbody tr th {\n",
       "        vertical-align: top;\n",
       "    }\n",
       "</style>\n",
       "<table border=\"1\" class=\"dataframe\">\n",
       "  <thead>\n",
       "    <tr style=\"text-align: right;\">\n",
       "      <th></th>\n",
       "      <th>UserID</th>\n",
       "      <th>Gender</th>\n",
       "      <th>Age</th>\n",
       "      <th>Occupation</th>\n",
       "      <th>Zip-code</th>\n",
       "    </tr>\n",
       "  </thead>\n",
       "  <tbody>\n",
       "    <tr>\n",
       "      <th>0</th>\n",
       "      <td>1</td>\n",
       "      <td>F</td>\n",
       "      <td>1</td>\n",
       "      <td>10</td>\n",
       "      <td>48067</td>\n",
       "    </tr>\n",
       "    <tr>\n",
       "      <th>1</th>\n",
       "      <td>2</td>\n",
       "      <td>M</td>\n",
       "      <td>56</td>\n",
       "      <td>16</td>\n",
       "      <td>70072</td>\n",
       "    </tr>\n",
       "    <tr>\n",
       "      <th>2</th>\n",
       "      <td>3</td>\n",
       "      <td>M</td>\n",
       "      <td>25</td>\n",
       "      <td>15</td>\n",
       "      <td>55117</td>\n",
       "    </tr>\n",
       "    <tr>\n",
       "      <th>3</th>\n",
       "      <td>4</td>\n",
       "      <td>M</td>\n",
       "      <td>45</td>\n",
       "      <td>7</td>\n",
       "      <td>02460</td>\n",
       "    </tr>\n",
       "    <tr>\n",
       "      <th>4</th>\n",
       "      <td>5</td>\n",
       "      <td>M</td>\n",
       "      <td>25</td>\n",
       "      <td>20</td>\n",
       "      <td>55455</td>\n",
       "    </tr>\n",
       "  </tbody>\n",
       "</table>\n",
       "</div>"
      ],
      "text/plain": [
       "   UserID Gender  Age  Occupation Zip-code\n",
       "0       1      F    1          10    48067\n",
       "1       2      M   56          16    70072\n",
       "2       3      M   25          15    55117\n",
       "3       4      M   45           7    02460\n",
       "4       5      M   25          20    55455"
      ]
     },
     "execution_count": 6,
     "metadata": {},
     "output_type": "execute_result"
    }
   ],
   "source": [
    "# Users\n",
    "users_df = pd.read_csv('./dataset/users.dat', sep=\"::\", header=None, \n",
    "                       names=['UserID', 'Gender', 'Age', 'Occupation', 'Zip-code'], engine='python')\n",
    "users_df.head()"
   ]
  },
  {
   "cell_type": "code",
   "execution_count": 7,
   "metadata": {},
   "outputs": [
    {
     "data": {
      "text/plain": [
       "(6040, 5)"
      ]
     },
     "execution_count": 7,
     "metadata": {},
     "output_type": "execute_result"
    }
   ],
   "source": [
    "users_df.shape"
   ]
  },
  {
   "cell_type": "code",
   "execution_count": 8,
   "metadata": {
    "scrolled": true
   },
   "outputs": [
    {
     "data": {
      "text/html": [
       "<div>\n",
       "<style>\n",
       "    .dataframe thead tr:only-child th {\n",
       "        text-align: right;\n",
       "    }\n",
       "\n",
       "    .dataframe thead th {\n",
       "        text-align: left;\n",
       "    }\n",
       "\n",
       "    .dataframe tbody tr th {\n",
       "        vertical-align: top;\n",
       "    }\n",
       "</style>\n",
       "<table border=\"1\" class=\"dataframe\">\n",
       "  <thead>\n",
       "    <tr style=\"text-align: right;\">\n",
       "      <th></th>\n",
       "      <th>MovieID</th>\n",
       "      <th>Title</th>\n",
       "      <th>Genres</th>\n",
       "    </tr>\n",
       "  </thead>\n",
       "  <tbody>\n",
       "    <tr>\n",
       "      <th>0</th>\n",
       "      <td>1</td>\n",
       "      <td>Toy Story (1995)</td>\n",
       "      <td>Animation|Children's|Comedy</td>\n",
       "    </tr>\n",
       "    <tr>\n",
       "      <th>1</th>\n",
       "      <td>2</td>\n",
       "      <td>Jumanji (1995)</td>\n",
       "      <td>Adventure|Children's|Fantasy</td>\n",
       "    </tr>\n",
       "    <tr>\n",
       "      <th>2</th>\n",
       "      <td>3</td>\n",
       "      <td>Grumpier Old Men (1995)</td>\n",
       "      <td>Comedy|Romance</td>\n",
       "    </tr>\n",
       "    <tr>\n",
       "      <th>3</th>\n",
       "      <td>4</td>\n",
       "      <td>Waiting to Exhale (1995)</td>\n",
       "      <td>Comedy|Drama</td>\n",
       "    </tr>\n",
       "    <tr>\n",
       "      <th>4</th>\n",
       "      <td>5</td>\n",
       "      <td>Father of the Bride Part II (1995)</td>\n",
       "      <td>Comedy</td>\n",
       "    </tr>\n",
       "  </tbody>\n",
       "</table>\n",
       "</div>"
      ],
      "text/plain": [
       "   MovieID                               Title                        Genres\n",
       "0        1                    Toy Story (1995)   Animation|Children's|Comedy\n",
       "1        2                      Jumanji (1995)  Adventure|Children's|Fantasy\n",
       "2        3             Grumpier Old Men (1995)                Comedy|Romance\n",
       "3        4            Waiting to Exhale (1995)                  Comedy|Drama\n",
       "4        5  Father of the Bride Part II (1995)                        Comedy"
      ]
     },
     "execution_count": 8,
     "metadata": {},
     "output_type": "execute_result"
    }
   ],
   "source": [
    "# Movies\n",
    "movies_df = pd.read_csv('./dataset/movies.dat', sep=\"::\", header=None, \n",
    "                       names=['MovieID', 'Title', 'Genres'], engine='python')\n",
    "movies_df['MovieID'] = movies_df['MovieID'].apply(pd.to_numeric)\n",
    "movies_df.head()"
   ]
  },
  {
   "cell_type": "markdown",
   "metadata": {
    "collapsed": true
   },
   "source": [
    "### create (i, j) index pair for testing set"
   ]
  },
  {
   "cell_type": "code",
   "execution_count": 9,
   "metadata": {
    "scrolled": true
   },
   "outputs": [],
   "source": [
    "# store the user id and movie id that have bee rated after certain timestamp\n",
    "T = 980000000\n",
    "test_uid = ratings_df.loc[ratings_df[\"Timestamp\"]>T,\"UserID\"].tolist()\n",
    "test_mid = ratings_df.loc[ratings_df[\"Timestamp\"]>T,\"MovieID\"].tolist()"
   ]
  },
  {
   "cell_type": "code",
   "execution_count": 10,
   "metadata": {},
   "outputs": [
    {
     "data": {
      "text/plain": [
       "82931"
      ]
     },
     "execution_count": 10,
     "metadata": {},
     "output_type": "execute_result"
    }
   ],
   "source": [
    "# size of testing set\n",
    "len(test_uid)"
   ]
  },
  {
   "cell_type": "markdown",
   "metadata": {},
   "source": [
    "# Construct Rating Matrix"
   ]
  },
  {
   "cell_type": "code",
   "execution_count": 11,
   "metadata": {
    "scrolled": true
   },
   "outputs": [
    {
     "data": {
      "text/plain": [
       "(6040, 3706)"
      ]
     },
     "execution_count": 11,
     "metadata": {},
     "output_type": "execute_result"
    }
   ],
   "source": [
    "R_df = ratings_df.pivot(index='UserID', columns='MovieID', values='Rating').fillna(0)\n",
    "R_df.shape"
   ]
  },
  {
   "cell_type": "code",
   "execution_count": 12,
   "metadata": {
    "scrolled": true
   },
   "outputs": [
    {
     "data": {
      "text/html": [
       "<div>\n",
       "<style>\n",
       "    .dataframe thead tr:only-child th {\n",
       "        text-align: right;\n",
       "    }\n",
       "\n",
       "    .dataframe thead th {\n",
       "        text-align: left;\n",
       "    }\n",
       "\n",
       "    .dataframe tbody tr th {\n",
       "        vertical-align: top;\n",
       "    }\n",
       "</style>\n",
       "<table border=\"1\" class=\"dataframe\">\n",
       "  <thead>\n",
       "    <tr style=\"text-align: right;\">\n",
       "      <th>MovieID</th>\n",
       "      <th>1</th>\n",
       "      <th>2</th>\n",
       "      <th>3</th>\n",
       "      <th>4</th>\n",
       "      <th>5</th>\n",
       "      <th>6</th>\n",
       "      <th>7</th>\n",
       "      <th>8</th>\n",
       "      <th>9</th>\n",
       "      <th>10</th>\n",
       "      <th>...</th>\n",
       "      <th>3943</th>\n",
       "      <th>3944</th>\n",
       "      <th>3945</th>\n",
       "      <th>3946</th>\n",
       "      <th>3947</th>\n",
       "      <th>3948</th>\n",
       "      <th>3949</th>\n",
       "      <th>3950</th>\n",
       "      <th>3951</th>\n",
       "      <th>3952</th>\n",
       "    </tr>\n",
       "    <tr>\n",
       "      <th>UserID</th>\n",
       "      <th></th>\n",
       "      <th></th>\n",
       "      <th></th>\n",
       "      <th></th>\n",
       "      <th></th>\n",
       "      <th></th>\n",
       "      <th></th>\n",
       "      <th></th>\n",
       "      <th></th>\n",
       "      <th></th>\n",
       "      <th></th>\n",
       "      <th></th>\n",
       "      <th></th>\n",
       "      <th></th>\n",
       "      <th></th>\n",
       "      <th></th>\n",
       "      <th></th>\n",
       "      <th></th>\n",
       "      <th></th>\n",
       "      <th></th>\n",
       "      <th></th>\n",
       "    </tr>\n",
       "  </thead>\n",
       "  <tbody>\n",
       "    <tr>\n",
       "      <th>1</th>\n",
       "      <td>5.0</td>\n",
       "      <td>0.0</td>\n",
       "      <td>0.0</td>\n",
       "      <td>0.0</td>\n",
       "      <td>0.0</td>\n",
       "      <td>0.0</td>\n",
       "      <td>0.0</td>\n",
       "      <td>0.0</td>\n",
       "      <td>0.0</td>\n",
       "      <td>0.0</td>\n",
       "      <td>...</td>\n",
       "      <td>0.0</td>\n",
       "      <td>0.0</td>\n",
       "      <td>0.0</td>\n",
       "      <td>0.0</td>\n",
       "      <td>0.0</td>\n",
       "      <td>0.0</td>\n",
       "      <td>0.0</td>\n",
       "      <td>0.0</td>\n",
       "      <td>0.0</td>\n",
       "      <td>0.0</td>\n",
       "    </tr>\n",
       "    <tr>\n",
       "      <th>2</th>\n",
       "      <td>0.0</td>\n",
       "      <td>0.0</td>\n",
       "      <td>0.0</td>\n",
       "      <td>0.0</td>\n",
       "      <td>0.0</td>\n",
       "      <td>0.0</td>\n",
       "      <td>0.0</td>\n",
       "      <td>0.0</td>\n",
       "      <td>0.0</td>\n",
       "      <td>0.0</td>\n",
       "      <td>...</td>\n",
       "      <td>0.0</td>\n",
       "      <td>0.0</td>\n",
       "      <td>0.0</td>\n",
       "      <td>0.0</td>\n",
       "      <td>0.0</td>\n",
       "      <td>0.0</td>\n",
       "      <td>0.0</td>\n",
       "      <td>0.0</td>\n",
       "      <td>0.0</td>\n",
       "      <td>0.0</td>\n",
       "    </tr>\n",
       "    <tr>\n",
       "      <th>3</th>\n",
       "      <td>0.0</td>\n",
       "      <td>0.0</td>\n",
       "      <td>0.0</td>\n",
       "      <td>0.0</td>\n",
       "      <td>0.0</td>\n",
       "      <td>0.0</td>\n",
       "      <td>0.0</td>\n",
       "      <td>0.0</td>\n",
       "      <td>0.0</td>\n",
       "      <td>0.0</td>\n",
       "      <td>...</td>\n",
       "      <td>0.0</td>\n",
       "      <td>0.0</td>\n",
       "      <td>0.0</td>\n",
       "      <td>0.0</td>\n",
       "      <td>0.0</td>\n",
       "      <td>0.0</td>\n",
       "      <td>0.0</td>\n",
       "      <td>0.0</td>\n",
       "      <td>0.0</td>\n",
       "      <td>0.0</td>\n",
       "    </tr>\n",
       "    <tr>\n",
       "      <th>4</th>\n",
       "      <td>0.0</td>\n",
       "      <td>0.0</td>\n",
       "      <td>0.0</td>\n",
       "      <td>0.0</td>\n",
       "      <td>0.0</td>\n",
       "      <td>0.0</td>\n",
       "      <td>0.0</td>\n",
       "      <td>0.0</td>\n",
       "      <td>0.0</td>\n",
       "      <td>0.0</td>\n",
       "      <td>...</td>\n",
       "      <td>0.0</td>\n",
       "      <td>0.0</td>\n",
       "      <td>0.0</td>\n",
       "      <td>0.0</td>\n",
       "      <td>0.0</td>\n",
       "      <td>0.0</td>\n",
       "      <td>0.0</td>\n",
       "      <td>0.0</td>\n",
       "      <td>0.0</td>\n",
       "      <td>0.0</td>\n",
       "    </tr>\n",
       "    <tr>\n",
       "      <th>5</th>\n",
       "      <td>0.0</td>\n",
       "      <td>0.0</td>\n",
       "      <td>0.0</td>\n",
       "      <td>0.0</td>\n",
       "      <td>0.0</td>\n",
       "      <td>2.0</td>\n",
       "      <td>0.0</td>\n",
       "      <td>0.0</td>\n",
       "      <td>0.0</td>\n",
       "      <td>0.0</td>\n",
       "      <td>...</td>\n",
       "      <td>0.0</td>\n",
       "      <td>0.0</td>\n",
       "      <td>0.0</td>\n",
       "      <td>0.0</td>\n",
       "      <td>0.0</td>\n",
       "      <td>0.0</td>\n",
       "      <td>0.0</td>\n",
       "      <td>0.0</td>\n",
       "      <td>0.0</td>\n",
       "      <td>0.0</td>\n",
       "    </tr>\n",
       "  </tbody>\n",
       "</table>\n",
       "<p>5 rows × 3706 columns</p>\n",
       "</div>"
      ],
      "text/plain": [
       "MovieID  1     2     3     4     5     6     7     8     9     10    ...   \\\n",
       "UserID                                                               ...    \n",
       "1         5.0   0.0   0.0   0.0   0.0   0.0   0.0   0.0   0.0   0.0  ...    \n",
       "2         0.0   0.0   0.0   0.0   0.0   0.0   0.0   0.0   0.0   0.0  ...    \n",
       "3         0.0   0.0   0.0   0.0   0.0   0.0   0.0   0.0   0.0   0.0  ...    \n",
       "4         0.0   0.0   0.0   0.0   0.0   0.0   0.0   0.0   0.0   0.0  ...    \n",
       "5         0.0   0.0   0.0   0.0   0.0   2.0   0.0   0.0   0.0   0.0  ...    \n",
       "\n",
       "MovieID  3943  3944  3945  3946  3947  3948  3949  3950  3951  3952  \n",
       "UserID                                                               \n",
       "1         0.0   0.0   0.0   0.0   0.0   0.0   0.0   0.0   0.0   0.0  \n",
       "2         0.0   0.0   0.0   0.0   0.0   0.0   0.0   0.0   0.0   0.0  \n",
       "3         0.0   0.0   0.0   0.0   0.0   0.0   0.0   0.0   0.0   0.0  \n",
       "4         0.0   0.0   0.0   0.0   0.0   0.0   0.0   0.0   0.0   0.0  \n",
       "5         0.0   0.0   0.0   0.0   0.0   0.0   0.0   0.0   0.0   0.0  \n",
       "\n",
       "[5 rows x 3706 columns]"
      ]
     },
     "execution_count": 12,
     "metadata": {},
     "output_type": "execute_result"
    }
   ],
   "source": [
    "R_df.head()"
   ]
  },
  {
   "cell_type": "code",
   "execution_count": 13,
   "metadata": {},
   "outputs": [
    {
     "data": {
      "text/plain": [
       "2.0"
      ]
     },
     "execution_count": 13,
     "metadata": {},
     "output_type": "execute_result"
    }
   ],
   "source": [
    "R_df.loc[5,6]"
   ]
  },
  {
   "cell_type": "code",
   "execution_count": 14,
   "metadata": {},
   "outputs": [
    {
     "name": "stdout",
     "output_type": "stream",
     "text": [
      "1000209  rating record\n"
     ]
    }
   ],
   "source": [
    "R = R_df.as_matrix()\n",
    "rated_index = np.nonzero(R) # x, y pairs that are nonzero value\n",
    "print(len(rated_index[0]),\" rating record\")"
   ]
  },
  {
   "cell_type": "markdown",
   "metadata": {
    "collapsed": true
   },
   "source": [
    "So far, we have construct a complete user-ratings matrix."
   ]
  },
  {
   "cell_type": "markdown",
   "metadata": {
    "collapsed": true
   },
   "source": [
    "# Create Train and Test Set"
   ]
  },
  {
   "cell_type": "markdown",
   "metadata": {},
   "source": [
    "Use the index we save above and set their ratings to **zero** in the user-ratings dataframe. Our goal is to predict those zero and compare with the original ratings."
   ]
  },
  {
   "cell_type": "code",
   "execution_count": 15,
   "metadata": {
    "collapsed": true
   },
   "outputs": [],
   "source": [
    "R_train_df = R_df # training matrix\n",
    "test_y = []\n",
    "for i,j in zip(test_uid, test_mid):\n",
    "    test_y.append(R_df.loc[i, j]) # store the groundtruth rating\n",
    "    R_train_df.loc[i, j] = 0 # set position (x, y) to zero in training matrix\n",
    "\n",
    "R_train = R_train_df.as_matrix()"
   ]
  },
  {
   "cell_type": "code",
   "execution_count": 16,
   "metadata": {},
   "outputs": [
    {
     "name": "stdout",
     "output_type": "stream",
     "text": [
      "(6040,)\n"
     ]
    }
   ],
   "source": [
    "# De-mean the training data (normalize by each users mean)\n",
    "user_ratings_mean = np.mean(R_train, axis=1)\n",
    "print(user_ratings_mean.shape)\n",
    "R_demeaned_train = R_train - user_ratings_mean.reshape(-1,1)"
   ]
  },
  {
   "cell_type": "code",
   "execution_count": null,
   "metadata": {
    "collapsed": true
   },
   "outputs": [],
   "source": []
  },
  {
   "cell_type": "markdown",
   "metadata": {},
   "source": [
    "# Define Evaluation"
   ]
  },
  {
   "cell_type": "code",
   "execution_count": 17,
   "metadata": {
    "collapsed": true
   },
   "outputs": [],
   "source": [
    "def RMSE(predictions, targets):\n",
    "    return np.sqrt(((predictions - targets) ** 2).mean())"
   ]
  },
  {
   "cell_type": "markdown",
   "metadata": {},
   "source": [
    "# Singular Value Decomposition (Train)"
   ]
  },
  {
   "cell_type": "code",
   "execution_count": 18,
   "metadata": {
    "collapsed": true
   },
   "outputs": [],
   "source": [
    "from scipy.sparse.linalg import svds"
   ]
  },
  {
   "cell_type": "code",
   "execution_count": 19,
   "metadata": {
    "collapsed": true
   },
   "outputs": [],
   "source": [
    "latent = 50 # rank\n",
    "U, Sigma, Vt = svds(R_demeaned_train, k=latent)"
   ]
  },
  {
   "cell_type": "code",
   "execution_count": 20,
   "metadata": {
    "scrolled": false
   },
   "outputs": [
    {
     "data": {
      "text/plain": [
       "array([  143.31863645,   144.24919641,   144.54984068,   144.91768804,\n",
       "         148.32295688,   149.90214802,   151.05007402,   151.70926957,\n",
       "         152.76484268,   154.12302823,   154.65227007,   156.44277847,\n",
       "         157.8584406 ,   159.45273508,   159.835295  ,   160.21463011,\n",
       "         163.74393508,   164.57004569,   166.39213572,   167.48245147,\n",
       "         173.00545218,   175.84105139,   177.74493371,   178.94260613,\n",
       "         183.47714506,   186.05691052,   188.53051707,   194.97007086,\n",
       "         197.01797196,   204.51990219,   206.04255415,   209.91261817,\n",
       "         215.30971432,   226.70628788,   231.64134446,   239.30453509,\n",
       "         244.40084892,   250.39090959,   266.21582143,   279.93000728,\n",
       "         305.62005216,   326.66108904,   334.62202079,   352.27343423,\n",
       "         399.17874472,   420.48834796,   480.78029787,   558.2558092 ,\n",
       "         642.30804208,  1453.2506477 ])"
      ]
     },
     "execution_count": 20,
     "metadata": {},
     "output_type": "execute_result"
    }
   ],
   "source": [
    "Sigma # singular value"
   ]
  },
  {
   "cell_type": "code",
   "execution_count": null,
   "metadata": {},
   "outputs": [],
   "source": []
  },
  {
   "cell_type": "markdown",
   "metadata": {},
   "source": [
    "# Making Predictions from the Decomposed Matrices"
   ]
  },
  {
   "cell_type": "code",
   "execution_count": 21,
   "metadata": {
    "collapsed": true
   },
   "outputs": [],
   "source": [
    "all_user_predicted_ratings =  U @ np.diag(Sigma) @ Vt + user_ratings_mean.reshape(-1,1)"
   ]
  },
  {
   "cell_type": "code",
   "execution_count": 26,
   "metadata": {},
   "outputs": [
    {
     "data": {
      "text/html": [
       "<div>\n",
       "<style>\n",
       "    .dataframe thead tr:only-child th {\n",
       "        text-align: right;\n",
       "    }\n",
       "\n",
       "    .dataframe thead th {\n",
       "        text-align: left;\n",
       "    }\n",
       "\n",
       "    .dataframe tbody tr th {\n",
       "        vertical-align: top;\n",
       "    }\n",
       "</style>\n",
       "<table border=\"1\" class=\"dataframe\">\n",
       "  <thead>\n",
       "    <tr style=\"text-align: right;\">\n",
       "      <th>MovieID</th>\n",
       "      <th>1</th>\n",
       "      <th>2</th>\n",
       "      <th>3</th>\n",
       "      <th>4</th>\n",
       "      <th>5</th>\n",
       "      <th>6</th>\n",
       "      <th>7</th>\n",
       "      <th>8</th>\n",
       "      <th>9</th>\n",
       "      <th>10</th>\n",
       "      <th>...</th>\n",
       "      <th>3943</th>\n",
       "      <th>3944</th>\n",
       "      <th>3945</th>\n",
       "      <th>3946</th>\n",
       "      <th>3947</th>\n",
       "      <th>3948</th>\n",
       "      <th>3949</th>\n",
       "      <th>3950</th>\n",
       "      <th>3951</th>\n",
       "      <th>3952</th>\n",
       "    </tr>\n",
       "    <tr>\n",
       "      <th>UserID</th>\n",
       "      <th></th>\n",
       "      <th></th>\n",
       "      <th></th>\n",
       "      <th></th>\n",
       "      <th></th>\n",
       "      <th></th>\n",
       "      <th></th>\n",
       "      <th></th>\n",
       "      <th></th>\n",
       "      <th></th>\n",
       "      <th></th>\n",
       "      <th></th>\n",
       "      <th></th>\n",
       "      <th></th>\n",
       "      <th></th>\n",
       "      <th></th>\n",
       "      <th></th>\n",
       "      <th></th>\n",
       "      <th></th>\n",
       "      <th></th>\n",
       "      <th></th>\n",
       "    </tr>\n",
       "  </thead>\n",
       "  <tbody>\n",
       "    <tr>\n",
       "      <th>1</th>\n",
       "      <td>4.171579</td>\n",
       "      <td>0.192684</td>\n",
       "      <td>-0.222288</td>\n",
       "      <td>-0.028729</td>\n",
       "      <td>0.027315</td>\n",
       "      <td>-0.185608</td>\n",
       "      <td>-0.011566</td>\n",
       "      <td>0.137880</td>\n",
       "      <td>-0.069794</td>\n",
       "      <td>-0.224909</td>\n",
       "      <td>...</td>\n",
       "      <td>0.025437</td>\n",
       "      <td>0.011242</td>\n",
       "      <td>0.024085</td>\n",
       "      <td>-0.021128</td>\n",
       "      <td>-0.090847</td>\n",
       "      <td>0.515925</td>\n",
       "      <td>0.169357</td>\n",
       "      <td>0.027380</td>\n",
       "      <td>0.058209</td>\n",
       "      <td>0.186207</td>\n",
       "    </tr>\n",
       "    <tr>\n",
       "      <th>2</th>\n",
       "      <td>0.705920</td>\n",
       "      <td>0.152438</td>\n",
       "      <td>0.346916</td>\n",
       "      <td>0.040115</td>\n",
       "      <td>0.002605</td>\n",
       "      <td>1.294574</td>\n",
       "      <td>0.057542</td>\n",
       "      <td>0.055424</td>\n",
       "      <td>0.167967</td>\n",
       "      <td>1.602338</td>\n",
       "      <td>...</td>\n",
       "      <td>-0.020978</td>\n",
       "      <td>-0.016344</td>\n",
       "      <td>-0.006539</td>\n",
       "      <td>0.076363</td>\n",
       "      <td>-0.003280</td>\n",
       "      <td>-0.001925</td>\n",
       "      <td>-0.219375</td>\n",
       "      <td>-0.042795</td>\n",
       "      <td>-0.062914</td>\n",
       "      <td>-0.095498</td>\n",
       "    </tr>\n",
       "    <tr>\n",
       "      <th>3</th>\n",
       "      <td>1.903073</td>\n",
       "      <td>0.495590</td>\n",
       "      <td>0.096907</td>\n",
       "      <td>-0.057269</td>\n",
       "      <td>-0.021756</td>\n",
       "      <td>-0.111188</td>\n",
       "      <td>-0.099336</td>\n",
       "      <td>0.104797</td>\n",
       "      <td>0.020666</td>\n",
       "      <td>0.703395</td>\n",
       "      <td>...</td>\n",
       "      <td>0.013150</td>\n",
       "      <td>0.001527</td>\n",
       "      <td>0.006095</td>\n",
       "      <td>0.028463</td>\n",
       "      <td>-0.016146</td>\n",
       "      <td>0.032950</td>\n",
       "      <td>-0.042907</td>\n",
       "      <td>-0.000818</td>\n",
       "      <td>-0.026746</td>\n",
       "      <td>-0.158967</td>\n",
       "    </tr>\n",
       "    <tr>\n",
       "      <th>4</th>\n",
       "      <td>0.361471</td>\n",
       "      <td>-0.077703</td>\n",
       "      <td>0.044001</td>\n",
       "      <td>0.073716</td>\n",
       "      <td>0.082478</td>\n",
       "      <td>0.246715</td>\n",
       "      <td>-0.021966</td>\n",
       "      <td>0.018297</td>\n",
       "      <td>0.039337</td>\n",
       "      <td>-0.141990</td>\n",
       "      <td>...</td>\n",
       "      <td>-0.013207</td>\n",
       "      <td>-0.008951</td>\n",
       "      <td>-0.018036</td>\n",
       "      <td>-0.001364</td>\n",
       "      <td>-0.073373</td>\n",
       "      <td>0.048542</td>\n",
       "      <td>0.035959</td>\n",
       "      <td>-0.003907</td>\n",
       "      <td>0.021460</td>\n",
       "      <td>0.043224</td>\n",
       "    </tr>\n",
       "    <tr>\n",
       "      <th>5</th>\n",
       "      <td>1.458982</td>\n",
       "      <td>0.010544</td>\n",
       "      <td>-0.089584</td>\n",
       "      <td>0.226303</td>\n",
       "      <td>-0.021040</td>\n",
       "      <td>1.500511</td>\n",
       "      <td>-0.229138</td>\n",
       "      <td>0.018941</td>\n",
       "      <td>-0.056274</td>\n",
       "      <td>0.597634</td>\n",
       "      <td>...</td>\n",
       "      <td>0.056810</td>\n",
       "      <td>0.034098</td>\n",
       "      <td>0.006070</td>\n",
       "      <td>-0.001784</td>\n",
       "      <td>-0.024497</td>\n",
       "      <td>0.567242</td>\n",
       "      <td>0.441459</td>\n",
       "      <td>0.057976</td>\n",
       "      <td>0.166506</td>\n",
       "      <td>0.457215</td>\n",
       "    </tr>\n",
       "  </tbody>\n",
       "</table>\n",
       "<p>5 rows × 3706 columns</p>\n",
       "</div>"
      ],
      "text/plain": [
       "MovieID      1         2         3         4         5         6         7     \\\n",
       "UserID                                                                          \n",
       "1        4.171579  0.192684 -0.222288 -0.028729  0.027315 -0.185608 -0.011566   \n",
       "2        0.705920  0.152438  0.346916  0.040115  0.002605  1.294574  0.057542   \n",
       "3        1.903073  0.495590  0.096907 -0.057269 -0.021756 -0.111188 -0.099336   \n",
       "4        0.361471 -0.077703  0.044001  0.073716  0.082478  0.246715 -0.021966   \n",
       "5        1.458982  0.010544 -0.089584  0.226303 -0.021040  1.500511 -0.229138   \n",
       "\n",
       "MovieID      8         9         10      ...         3943      3944      3945  \\\n",
       "UserID                                   ...                                    \n",
       "1        0.137880 -0.069794 -0.224909    ...     0.025437  0.011242  0.024085   \n",
       "2        0.055424  0.167967  1.602338    ...    -0.020978 -0.016344 -0.006539   \n",
       "3        0.104797  0.020666  0.703395    ...     0.013150  0.001527  0.006095   \n",
       "4        0.018297  0.039337 -0.141990    ...    -0.013207 -0.008951 -0.018036   \n",
       "5        0.018941 -0.056274  0.597634    ...     0.056810  0.034098  0.006070   \n",
       "\n",
       "MovieID      3946      3947      3948      3949      3950      3951      3952  \n",
       "UserID                                                                         \n",
       "1       -0.021128 -0.090847  0.515925  0.169357  0.027380  0.058209  0.186207  \n",
       "2        0.076363 -0.003280 -0.001925 -0.219375 -0.042795 -0.062914 -0.095498  \n",
       "3        0.028463 -0.016146  0.032950 -0.042907 -0.000818 -0.026746 -0.158967  \n",
       "4       -0.001364 -0.073373  0.048542  0.035959 -0.003907  0.021460  0.043224  \n",
       "5       -0.001784 -0.024497  0.567242  0.441459  0.057976  0.166506  0.457215  \n",
       "\n",
       "[5 rows x 3706 columns]"
      ]
     },
     "execution_count": 26,
     "metadata": {},
     "output_type": "execute_result"
    }
   ],
   "source": [
    "all_user_predicted_ratings_df = pd.DataFrame(all_user_predicted_ratings, columns=R_df.columns, index=R_df.index)\n",
    "all_user_predicted_ratings_df.head()"
   ]
  },
  {
   "cell_type": "code",
   "execution_count": 27,
   "metadata": {},
   "outputs": [
    {
     "data": {
      "text/plain": [
       "0.54534685748114575"
      ]
     },
     "execution_count": 27,
     "metadata": {},
     "output_type": "execute_result"
    }
   ],
   "source": [
    "RMSE(R, all_user_predicted_ratings)"
   ]
  },
  {
   "cell_type": "code",
   "execution_count": 36,
   "metadata": {},
   "outputs": [],
   "source": [
    "pred_y = []\n",
    "for i,j in zip(test_uid, test_mid):\n",
    "    pred_y.append(all_user_predicted_ratings_df.loc[i, j])\n",
    "#\n",
    "pred_y = np.array(pred_y)\n",
    "pred_y = np.clip(np.round(pred_y), 1, 5)"
   ]
  },
  {
   "cell_type": "code",
   "execution_count": 37,
   "metadata": {},
   "outputs": [
    {
     "data": {
      "text/plain": [
       "2.6072189720522152"
      ]
     },
     "execution_count": 37,
     "metadata": {},
     "output_type": "execute_result"
    }
   ],
   "source": [
    "RMSE(pred_y, test_y)"
   ]
  },
  {
   "cell_type": "code",
   "execution_count": 38,
   "metadata": {},
   "outputs": [
    {
     "data": {
      "text/plain": [
       "array([ 3.,  1.,  1., ...,  1.,  1.,  1.])"
      ]
     },
     "execution_count": 38,
     "metadata": {},
     "output_type": "execute_result"
    }
   ],
   "source": [
    "pred_y"
   ]
  },
  {
   "cell_type": "markdown",
   "metadata": {},
   "source": [
    "# Making Movie Recommendations"
   ]
  },
  {
   "cell_type": "code",
   "execution_count": 39,
   "metadata": {
    "scrolled": true
   },
   "outputs": [
    {
     "data": {
      "text/html": [
       "<div>\n",
       "<style>\n",
       "    .dataframe thead tr:only-child th {\n",
       "        text-align: right;\n",
       "    }\n",
       "\n",
       "    .dataframe thead th {\n",
       "        text-align: left;\n",
       "    }\n",
       "\n",
       "    .dataframe tbody tr th {\n",
       "        vertical-align: top;\n",
       "    }\n",
       "</style>\n",
       "<table border=\"1\" class=\"dataframe\">\n",
       "  <thead>\n",
       "    <tr style=\"text-align: right;\">\n",
       "      <th>MovieID</th>\n",
       "      <th>1</th>\n",
       "      <th>2</th>\n",
       "      <th>3</th>\n",
       "      <th>4</th>\n",
       "      <th>5</th>\n",
       "      <th>6</th>\n",
       "      <th>7</th>\n",
       "      <th>8</th>\n",
       "      <th>9</th>\n",
       "      <th>10</th>\n",
       "      <th>...</th>\n",
       "      <th>3943</th>\n",
       "      <th>3944</th>\n",
       "      <th>3945</th>\n",
       "      <th>3946</th>\n",
       "      <th>3947</th>\n",
       "      <th>3948</th>\n",
       "      <th>3949</th>\n",
       "      <th>3950</th>\n",
       "      <th>3951</th>\n",
       "      <th>3952</th>\n",
       "    </tr>\n",
       "  </thead>\n",
       "  <tbody>\n",
       "    <tr>\n",
       "      <th>0</th>\n",
       "      <td>4.171579</td>\n",
       "      <td>0.192684</td>\n",
       "      <td>-0.222288</td>\n",
       "      <td>-0.028729</td>\n",
       "      <td>0.027315</td>\n",
       "      <td>-0.185608</td>\n",
       "      <td>-0.011566</td>\n",
       "      <td>0.137880</td>\n",
       "      <td>-0.069794</td>\n",
       "      <td>-0.224909</td>\n",
       "      <td>...</td>\n",
       "      <td>0.025437</td>\n",
       "      <td>0.011242</td>\n",
       "      <td>0.024085</td>\n",
       "      <td>-0.021128</td>\n",
       "      <td>-0.090847</td>\n",
       "      <td>0.515925</td>\n",
       "      <td>0.169357</td>\n",
       "      <td>0.027380</td>\n",
       "      <td>0.058209</td>\n",
       "      <td>0.186207</td>\n",
       "    </tr>\n",
       "    <tr>\n",
       "      <th>1</th>\n",
       "      <td>0.705920</td>\n",
       "      <td>0.152438</td>\n",
       "      <td>0.346916</td>\n",
       "      <td>0.040115</td>\n",
       "      <td>0.002605</td>\n",
       "      <td>1.294574</td>\n",
       "      <td>0.057542</td>\n",
       "      <td>0.055424</td>\n",
       "      <td>0.167967</td>\n",
       "      <td>1.602338</td>\n",
       "      <td>...</td>\n",
       "      <td>-0.020978</td>\n",
       "      <td>-0.016344</td>\n",
       "      <td>-0.006539</td>\n",
       "      <td>0.076363</td>\n",
       "      <td>-0.003280</td>\n",
       "      <td>-0.001925</td>\n",
       "      <td>-0.219375</td>\n",
       "      <td>-0.042795</td>\n",
       "      <td>-0.062914</td>\n",
       "      <td>-0.095498</td>\n",
       "    </tr>\n",
       "    <tr>\n",
       "      <th>2</th>\n",
       "      <td>1.903073</td>\n",
       "      <td>0.495590</td>\n",
       "      <td>0.096907</td>\n",
       "      <td>-0.057269</td>\n",
       "      <td>-0.021756</td>\n",
       "      <td>-0.111188</td>\n",
       "      <td>-0.099336</td>\n",
       "      <td>0.104797</td>\n",
       "      <td>0.020666</td>\n",
       "      <td>0.703395</td>\n",
       "      <td>...</td>\n",
       "      <td>0.013150</td>\n",
       "      <td>0.001527</td>\n",
       "      <td>0.006095</td>\n",
       "      <td>0.028463</td>\n",
       "      <td>-0.016146</td>\n",
       "      <td>0.032950</td>\n",
       "      <td>-0.042907</td>\n",
       "      <td>-0.000818</td>\n",
       "      <td>-0.026746</td>\n",
       "      <td>-0.158967</td>\n",
       "    </tr>\n",
       "    <tr>\n",
       "      <th>3</th>\n",
       "      <td>0.361471</td>\n",
       "      <td>-0.077703</td>\n",
       "      <td>0.044001</td>\n",
       "      <td>0.073716</td>\n",
       "      <td>0.082478</td>\n",
       "      <td>0.246715</td>\n",
       "      <td>-0.021966</td>\n",
       "      <td>0.018297</td>\n",
       "      <td>0.039337</td>\n",
       "      <td>-0.141990</td>\n",
       "      <td>...</td>\n",
       "      <td>-0.013207</td>\n",
       "      <td>-0.008951</td>\n",
       "      <td>-0.018036</td>\n",
       "      <td>-0.001364</td>\n",
       "      <td>-0.073373</td>\n",
       "      <td>0.048542</td>\n",
       "      <td>0.035959</td>\n",
       "      <td>-0.003907</td>\n",
       "      <td>0.021460</td>\n",
       "      <td>0.043224</td>\n",
       "    </tr>\n",
       "    <tr>\n",
       "      <th>4</th>\n",
       "      <td>1.458982</td>\n",
       "      <td>0.010544</td>\n",
       "      <td>-0.089584</td>\n",
       "      <td>0.226303</td>\n",
       "      <td>-0.021040</td>\n",
       "      <td>1.500511</td>\n",
       "      <td>-0.229138</td>\n",
       "      <td>0.018941</td>\n",
       "      <td>-0.056274</td>\n",
       "      <td>0.597634</td>\n",
       "      <td>...</td>\n",
       "      <td>0.056810</td>\n",
       "      <td>0.034098</td>\n",
       "      <td>0.006070</td>\n",
       "      <td>-0.001784</td>\n",
       "      <td>-0.024497</td>\n",
       "      <td>0.567242</td>\n",
       "      <td>0.441459</td>\n",
       "      <td>0.057976</td>\n",
       "      <td>0.166506</td>\n",
       "      <td>0.457215</td>\n",
       "    </tr>\n",
       "  </tbody>\n",
       "</table>\n",
       "<p>5 rows × 3706 columns</p>\n",
       "</div>"
      ],
      "text/plain": [
       "MovieID      1         2         3         4         5         6         7     \\\n",
       "0        4.171579  0.192684 -0.222288 -0.028729  0.027315 -0.185608 -0.011566   \n",
       "1        0.705920  0.152438  0.346916  0.040115  0.002605  1.294574  0.057542   \n",
       "2        1.903073  0.495590  0.096907 -0.057269 -0.021756 -0.111188 -0.099336   \n",
       "3        0.361471 -0.077703  0.044001  0.073716  0.082478  0.246715 -0.021966   \n",
       "4        1.458982  0.010544 -0.089584  0.226303 -0.021040  1.500511 -0.229138   \n",
       "\n",
       "MovieID      8         9         10      ...         3943      3944      3945  \\\n",
       "0        0.137880 -0.069794 -0.224909    ...     0.025437  0.011242  0.024085   \n",
       "1        0.055424  0.167967  1.602338    ...    -0.020978 -0.016344 -0.006539   \n",
       "2        0.104797  0.020666  0.703395    ...     0.013150  0.001527  0.006095   \n",
       "3        0.018297  0.039337 -0.141990    ...    -0.013207 -0.008951 -0.018036   \n",
       "4        0.018941 -0.056274  0.597634    ...     0.056810  0.034098  0.006070   \n",
       "\n",
       "MovieID      3946      3947      3948      3949      3950      3951      3952  \n",
       "0       -0.021128 -0.090847  0.515925  0.169357  0.027380  0.058209  0.186207  \n",
       "1        0.076363 -0.003280 -0.001925 -0.219375 -0.042795 -0.062914 -0.095498  \n",
       "2        0.028463 -0.016146  0.032950 -0.042907 -0.000818 -0.026746 -0.158967  \n",
       "3       -0.001364 -0.073373  0.048542  0.035959 -0.003907  0.021460  0.043224  \n",
       "4       -0.001784 -0.024497  0.567242  0.441459  0.057976  0.166506  0.457215  \n",
       "\n",
       "[5 rows x 3706 columns]"
      ]
     },
     "execution_count": 39,
     "metadata": {},
     "output_type": "execute_result"
    }
   ],
   "source": [
    "preds_df = pd.DataFrame(all_user_predicted_ratings, columns=R_df.columns)\n",
    "preds_df.head()"
   ]
  },
  {
   "cell_type": "code",
   "execution_count": 40,
   "metadata": {},
   "outputs": [
    {
     "data": {
      "text/plain": [
       "array([ 3.,  1.,  1.,  2.,  1.,  2.,  1.,  2.,  1.,  1.])"
      ]
     },
     "execution_count": 40,
     "metadata": {},
     "output_type": "execute_result"
    }
   ],
   "source": [
    "pred_y[:10]"
   ]
  },
  {
   "cell_type": "code",
   "execution_count": 41,
   "metadata": {
    "scrolled": true
   },
   "outputs": [
    {
     "data": {
      "text/plain": [
       "array([ 858, 1221, 2028, ..., 1206, 1210,  919], dtype=int64)"
      ]
     },
     "execution_count": 41,
     "metadata": {},
     "output_type": "execute_result"
    }
   ],
   "source": [
    "np.array(preds_df.iloc[836].sort_values(ascending=False).index)"
   ]
  },
  {
   "cell_type": "code",
   "execution_count": 42,
   "metadata": {
    "scrolled": true
   },
   "outputs": [
    {
     "data": {
      "text/plain": [
       "array([1248, 2991, 1252,  589,    6, 1267, 1276, 1292,  905,  910, 1446,\n",
       "        913, 3068, 1610, 1617,  942, 3083, 2289,  955, 3095, 3417, 3418,\n",
       "       3435,  296, 3654, 2858,  457, 3683, 1304, 1177, 1179, 1188, 3101,\n",
       "       2300, 2186, 1387,  858, 3307,  110, 3341, 3504, 3362, 3366, 2571,\n",
       "        164, 2726, 1783,  318, 2599, 1961,   34, 1036, 3720, 3735, 2935,\n",
       "       2791, 2000, 1201, 2944, 2947, 2948, 2949, 1213, 1221, 1222, 2028,\n",
       "       1233,  707, 1244])"
      ]
     },
     "execution_count": 42,
     "metadata": {},
     "output_type": "execute_result"
    }
   ],
   "source": [
    "np.array(ratings_df[ratings_df.UserID==(837)][\"MovieID\"])"
   ]
  },
  {
   "cell_type": "code",
   "execution_count": 43,
   "metadata": {
    "collapsed": true
   },
   "outputs": [],
   "source": [
    "# Recommend top five (num_recommendations) movies\n",
    "# Return: Top five movies that user has already rated and top five recommend movies\n",
    "def recommend_movies(predictions_df, userID, movies_df, original_ratings_df, num_recommendations=5):\n",
    "    # Get and sort the user's predictions\n",
    "    user_row_number = userID - 1 # UserID starts at 1, not 0\n",
    "    \n",
    "    # UserID starts at 1\n",
    "    sorted_user_predictions = np.array(preds_df.iloc[user_row_number].sort_values(ascending=False).index)\n",
    "    \n",
    "    # Get the user's data and merge in the movie information.\n",
    "    user_data = original_ratings_df[original_ratings_df.UserID==(userID)]\n",
    "    # TODO\n",
    "    user_full = np.array(ratings_df[ratings_df.UserID==(userID)][\"MovieID\"])\n",
    "    \n",
    "    print('User {0} has already rated {1} movies.'.format(userID, len(user_full )))\n",
    "    print('Recommending highest {0} predicted ratings movies not already rated.'.format(num_recommendations))\n",
    "    \n",
    "    # Recommend the highest predicted rating movies that the user hasn't seen yet.\n",
    "    recommendations = [i for i in sorted_user_predictions if i not in user_full][:num_recommendations]\n",
    "    return user_full, recommendations"
   ]
  },
  {
   "cell_type": "code",
   "execution_count": 44,
   "metadata": {
    "scrolled": false
   },
   "outputs": [
    {
     "name": "stdout",
     "output_type": "stream",
     "text": [
      "User 837 has already rated 69 movies.\n",
      "Recommending highest 10 predicted ratings movies not already rated.\n"
     ]
    }
   ],
   "source": [
    "already_rated, predictions = recommend_movies(preds_df, 837, movies_df, ratings_df, 10)"
   ]
  },
  {
   "cell_type": "code",
   "execution_count": 45,
   "metadata": {
    "scrolled": false
   },
   "outputs": [
    {
     "data": {
      "text/plain": [
       "array([1248, 2991, 1252,  589,    6, 1267, 1276, 1292,  905,  910])"
      ]
     },
     "execution_count": 45,
     "metadata": {},
     "output_type": "execute_result"
    }
   ],
   "source": [
    "already_rated[:10]"
   ]
  },
  {
   "cell_type": "code",
   "execution_count": 46,
   "metadata": {
    "scrolled": false
   },
   "outputs": [
    {
     "data": {
      "text/plain": [
       "[527, 1953, 608, 1284, 1242, 2194, 922, 1230, 1954, 593]"
      ]
     },
     "execution_count": 46,
     "metadata": {},
     "output_type": "execute_result"
    }
   ],
   "source": [
    "predictions"
   ]
  },
  {
   "cell_type": "code",
   "execution_count": null,
   "metadata": {
    "collapsed": true
   },
   "outputs": [],
   "source": []
  },
  {
   "cell_type": "markdown",
   "metadata": {
    "collapsed": true
   },
   "source": [
    "# Questions"
   ]
  },
  {
   "cell_type": "markdown",
   "metadata": {},
   "source": [
    "### Q1: Pleas plot the change of cost (RMSE or SSE) respect to latent."
   ]
  },
  {
   "cell_type": "code",
   "execution_count": 49,
   "metadata": {},
   "outputs": [],
   "source": [
    "latent_list = list(range(10,100,5))# rank\n",
    "Loss = []\n",
    "for latent in latent_list:\n",
    "    U, Sigma, Vt = svds(R_demeaned_train, k=latent)\n",
    "    all_user_predicted_ratings =  U @ np.diag(Sigma) @ Vt + user_ratings_mean.reshape(-1,1)\n",
    "    all_user_predicted_ratings_df = pd.DataFrame(all_user_predicted_ratings, columns=R_train_df.columns, index=R_train_df.index)\n",
    "    pred_y = []\n",
    "    for i, j in zip(test_uid, test_mid):\n",
    "        pred_y.append(all_user_predicted_ratings_df.loc[i, j])\n",
    "    pred_y = np.clip(np.round(pred_y), 1, 5)\n",
    "#     pred_y = np.array(pred_y)\n",
    "    Loss.append(RMSE(pred_y, test_y))"
   ]
  },
  {
   "cell_type": "code",
   "execution_count": 50,
   "metadata": {},
   "outputs": [
    {
     "data": {
      "image/png": "[encoded data removed]",
      "text/plain": [
       "<matplotlib.figure.Figure at 0x135d81c7908>"
      ]
     },
     "metadata": {},
     "output_type": "display_data"
    }
   ],
   "source": [
    "plt.plot(latent_list, Loss)\n",
    "plt.xlabel(\"latent dimension\")\n",
    "plt.ylabel(\"RMSE\")\n",
    "plt.show()"
   ]
  },
  {
   "cell_type": "markdown",
   "metadata": {},
   "source": [
    "### Q2: What is the best latent?"
   ]
  },
  {
   "cell_type": "code",
   "execution_count": 56,
   "metadata": {},
   "outputs": [
    {
     "name": "stdout",
     "output_type": "stream",
     "text": [
      "The best latent dimension should be 25.\n"
     ]
    }
   ],
   "source": [
    "best_n = latent_list[np.argmin(Loss)]\n",
    "print(\"The best latent dimension should be %d.\"%best_n)"
   ]
  },
  {
   "cell_type": "markdown",
   "metadata": {},
   "source": [
    "### Q3: Please randomly choose five users from your test sets and recommend 10 movies."
   ]
  },
  {
   "cell_type": "code",
   "execution_count": 57,
   "metadata": {},
   "outputs": [
    {
     "name": "stdout",
     "output_type": "stream",
     "text": [
      "User 837 has already rated 69 movies.\n",
      "Recommending highest 5 predicted ratings movies not already rated.\n",
      "[527, 1953, 608, 1284, 1242]\n",
      "\n",
      "User 12 has already rated 23 movies.\n",
      "Recommending highest 5 predicted ratings movies not already rated.\n",
      "[318, 912, 608, 1225, 1207]\n",
      "\n",
      "User 576 has already rated 57 movies.\n",
      "Recommending highest 5 predicted ratings movies not already rated.\n",
      "[1240, 2355, 912, 1374, 1291]\n",
      "\n",
      "User 2 has already rated 129 movies.\n",
      "Recommending highest 5 predicted ratings movies not already rated.\n",
      "[1580, 733, 527, 1961, 1704]\n",
      "\n",
      "User 666 has already rated 103 movies.\n",
      "Recommending highest 5 predicted ratings movies not already rated.\n",
      "[1704, 34, 17, 50, 589]\n",
      "\n"
     ]
    }
   ],
   "source": [
    "for user in [837, 12, 576, 2, 666]:\n",
    "    already_rated, predictions = recommend_movies(preds_df, user, movies_df, ratings_df, 5)\n",
    "    print(predictions)\n",
    "    print()"
   ]
  },
  {
   "cell_type": "markdown",
   "metadata": {},
   "source": [
    "# Movie feature visualization"
   ]
  },
  {
   "cell_type": "code",
   "execution_count": 59,
   "metadata": {
    "collapsed": true
   },
   "outputs": [],
   "source": [
    "from sklearn.manifold import TSNE\n",
    "tsne = TSNE(n_components=2, random_state=0, perplexity=80)\n",
    "vis_data = tsne.fit_transform(Vt.T)"
   ]
  },
  {
   "cell_type": "code",
   "execution_count": 60,
   "metadata": {},
   "outputs": [
    {
     "data": {
      "text/plain": [
       "(3706, 2)"
      ]
     },
     "execution_count": 60,
     "metadata": {},
     "output_type": "execute_result"
    }
   ],
   "source": [
    "vis_data.shape"
   ]
  },
  {
   "cell_type": "code",
   "execution_count": 61,
   "metadata": {
    "scrolled": true
   },
   "outputs": [
    {
     "data": {
      "text/html": [
       "<div>\n",
       "<style>\n",
       "    .dataframe thead tr:only-child th {\n",
       "        text-align: right;\n",
       "    }\n",
       "\n",
       "    .dataframe thead th {\n",
       "        text-align: left;\n",
       "    }\n",
       "\n",
       "    .dataframe tbody tr th {\n",
       "        vertical-align: top;\n",
       "    }\n",
       "</style>\n",
       "<table border=\"1\" class=\"dataframe\">\n",
       "  <thead>\n",
       "    <tr style=\"text-align: right;\">\n",
       "      <th></th>\n",
       "      <th>MovieID</th>\n",
       "      <th>Title</th>\n",
       "      <th>Genres</th>\n",
       "    </tr>\n",
       "  </thead>\n",
       "  <tbody>\n",
       "    <tr>\n",
       "      <th>0</th>\n",
       "      <td>1</td>\n",
       "      <td>Toy Story (1995)</td>\n",
       "      <td>Animation</td>\n",
       "    </tr>\n",
       "    <tr>\n",
       "      <th>1</th>\n",
       "      <td>2</td>\n",
       "      <td>Jumanji (1995)</td>\n",
       "      <td>Adventure</td>\n",
       "    </tr>\n",
       "    <tr>\n",
       "      <th>2</th>\n",
       "      <td>3</td>\n",
       "      <td>Grumpier Old Men (1995)</td>\n",
       "      <td>Comedy</td>\n",
       "    </tr>\n",
       "    <tr>\n",
       "      <th>3</th>\n",
       "      <td>4</td>\n",
       "      <td>Waiting to Exhale (1995)</td>\n",
       "      <td>Comedy</td>\n",
       "    </tr>\n",
       "    <tr>\n",
       "      <th>4</th>\n",
       "      <td>5</td>\n",
       "      <td>Father of the Bride Part II (1995)</td>\n",
       "      <td>Comedy</td>\n",
       "    </tr>\n",
       "  </tbody>\n",
       "</table>\n",
       "</div>"
      ],
      "text/plain": [
       "   MovieID                               Title     Genres\n",
       "0        1                    Toy Story (1995)  Animation\n",
       "1        2                      Jumanji (1995)  Adventure\n",
       "2        3             Grumpier Old Men (1995)     Comedy\n",
       "3        4            Waiting to Exhale (1995)     Comedy\n",
       "4        5  Father of the Bride Part II (1995)     Comedy"
      ]
     },
     "execution_count": 61,
     "metadata": {},
     "output_type": "execute_result"
    }
   ],
   "source": [
    "movies_df[\"Genres\"] = movies_df[\"Genres\"].apply(lambda x:x.split(\"|\")[0])\n",
    "movies_df.head()"
   ]
  },
  {
   "cell_type": "code",
   "execution_count": 62,
   "metadata": {},
   "outputs": [],
   "source": [
    "genres =[list(movies_df.loc[movies_df[\"MovieID\"] == i,\"Genres\"]) for i in np.array(R_df.columns)]"
   ]
  },
  {
   "cell_type": "code",
   "execution_count": 63,
   "metadata": {},
   "outputs": [
    {
     "data": {
      "text/plain": [
       "3706"
      ]
     },
     "execution_count": 63,
     "metadata": {},
     "output_type": "execute_result"
    }
   ],
   "source": [
    "genres = np.array(genres).squeeze()\n",
    "len(genres)"
   ]
  },
  {
   "cell_type": "code",
   "execution_count": 64,
   "metadata": {},
   "outputs": [
    {
     "data": {
      "text/plain": [
       "(3706,)"
      ]
     },
     "execution_count": 64,
     "metadata": {},
     "output_type": "execute_result"
    }
   ],
   "source": [
    "vis_data[:,1].shape"
   ]
  },
  {
   "cell_type": "code",
   "execution_count": 65,
   "metadata": {
    "scrolled": true
   },
   "outputs": [
    {
     "data": {
      "text/plain": [
       "array(['Animation', 'Adventure', 'Comedy', ..., 'Drama', 'Drama', 'Drama'],\n",
       "      dtype='<U11')"
      ]
     },
     "execution_count": 65,
     "metadata": {},
     "output_type": "execute_result"
    }
   ],
   "source": [
    "genres"
   ]
  },
  {
   "cell_type": "code",
   "execution_count": 66,
   "metadata": {
    "collapsed": true
   },
   "outputs": [],
   "source": [
    "from sklearn import preprocessing\n",
    "le = preprocessing.LabelEncoder()\n",
    "y_c = le.fit_transform(genres)"
   ]
  },
  {
   "cell_type": "code",
   "execution_count": 67,
   "metadata": {
    "scrolled": false
   },
   "outputs": [
    {
     "data": {
      "image/png": "[encoded data removed]",
      "text/plain": [
       "<matplotlib.figure.Figure at 0x135e932df60>"
      ]
     },
     "metadata": {},
     "output_type": "display_data"
    }
   ],
   "source": [
    "plt.figure(figsize=(16,9))\n",
    "cm = plt.cm.get_cmap(\"tab20\", 18)\n",
    "sc = plt.scatter(vis_data[:,0], vis_data[:,1], c=y_c, cmap=cm)\n",
    "plt.colorbar(ticks=range(18))\n",
    "plt.clim(-0.5, 17.5)\n",
    "plt.xlim(-40,40)\n",
    "plt.ylim(-40,40)\n",
    "plt.show()"
   ]
  },
  {
   "cell_type": "markdown",
   "metadata": {},
   "source": [
    "The above visualization shows the mapping of movie features from 95 dims to **2** dims using T-SNE. We can find out that the purple cluster and blue cluster, which are **Drama** and **Action** genres respectively, are somehow opposite. "
   ]
  },
  {
   "cell_type": "code",
   "execution_count": 68,
   "metadata": {
    "scrolled": false
   },
   "outputs": [
    {
     "name": "stdout",
     "output_type": "stream",
     "text": [
      "Look up table for class color and genres:\n"
     ]
    },
    {
     "data": {
      "text/html": [
       "<div>\n",
       "<style>\n",
       "    .dataframe thead tr:only-child th {\n",
       "        text-align: right;\n",
       "    }\n",
       "\n",
       "    .dataframe thead th {\n",
       "        text-align: left;\n",
       "    }\n",
       "\n",
       "    .dataframe tbody tr th {\n",
       "        vertical-align: top;\n",
       "    }\n",
       "</style>\n",
       "<table border=\"1\" class=\"dataframe\">\n",
       "  <thead>\n",
       "    <tr style=\"text-align: right;\">\n",
       "      <th></th>\n",
       "      <th>class</th>\n",
       "      <th>genres</th>\n",
       "    </tr>\n",
       "  </thead>\n",
       "  <tbody>\n",
       "    <tr>\n",
       "      <th>0</th>\n",
       "      <td>0</td>\n",
       "      <td>Action</td>\n",
       "    </tr>\n",
       "    <tr>\n",
       "      <th>1</th>\n",
       "      <td>1</td>\n",
       "      <td>Adventure</td>\n",
       "    </tr>\n",
       "    <tr>\n",
       "      <th>2</th>\n",
       "      <td>2</td>\n",
       "      <td>Animation</td>\n",
       "    </tr>\n",
       "    <tr>\n",
       "      <th>3</th>\n",
       "      <td>3</td>\n",
       "      <td>Children's</td>\n",
       "    </tr>\n",
       "    <tr>\n",
       "      <th>4</th>\n",
       "      <td>4</td>\n",
       "      <td>Comedy</td>\n",
       "    </tr>\n",
       "    <tr>\n",
       "      <th>5</th>\n",
       "      <td>5</td>\n",
       "      <td>Crime</td>\n",
       "    </tr>\n",
       "    <tr>\n",
       "      <th>6</th>\n",
       "      <td>6</td>\n",
       "      <td>Documentary</td>\n",
       "    </tr>\n",
       "    <tr>\n",
       "      <th>7</th>\n",
       "      <td>7</td>\n",
       "      <td>Drama</td>\n",
       "    </tr>\n",
       "    <tr>\n",
       "      <th>8</th>\n",
       "      <td>8</td>\n",
       "      <td>Fantasy</td>\n",
       "    </tr>\n",
       "    <tr>\n",
       "      <th>9</th>\n",
       "      <td>9</td>\n",
       "      <td>Film-Noir</td>\n",
       "    </tr>\n",
       "    <tr>\n",
       "      <th>10</th>\n",
       "      <td>10</td>\n",
       "      <td>Horror</td>\n",
       "    </tr>\n",
       "    <tr>\n",
       "      <th>11</th>\n",
       "      <td>11</td>\n",
       "      <td>Musical</td>\n",
       "    </tr>\n",
       "    <tr>\n",
       "      <th>12</th>\n",
       "      <td>12</td>\n",
       "      <td>Mystery</td>\n",
       "    </tr>\n",
       "    <tr>\n",
       "      <th>13</th>\n",
       "      <td>13</td>\n",
       "      <td>Romance</td>\n",
       "    </tr>\n",
       "    <tr>\n",
       "      <th>14</th>\n",
       "      <td>14</td>\n",
       "      <td>Sci-Fi</td>\n",
       "    </tr>\n",
       "    <tr>\n",
       "      <th>15</th>\n",
       "      <td>15</td>\n",
       "      <td>Thriller</td>\n",
       "    </tr>\n",
       "    <tr>\n",
       "      <th>16</th>\n",
       "      <td>16</td>\n",
       "      <td>War</td>\n",
       "    </tr>\n",
       "    <tr>\n",
       "      <th>17</th>\n",
       "      <td>17</td>\n",
       "      <td>Western</td>\n",
       "    </tr>\n",
       "  </tbody>\n",
       "</table>\n",
       "</div>"
      ],
      "text/plain": [
       "    class       genres\n",
       "0       0       Action\n",
       "1       1    Adventure\n",
       "2       2    Animation\n",
       "3       3   Children's\n",
       "4       4       Comedy\n",
       "5       5        Crime\n",
       "6       6  Documentary\n",
       "7       7        Drama\n",
       "8       8      Fantasy\n",
       "9       9    Film-Noir\n",
       "10     10       Horror\n",
       "11     11      Musical\n",
       "12     12      Mystery\n",
       "13     13      Romance\n",
       "14     14       Sci-Fi\n",
       "15     15     Thriller\n",
       "16     16          War\n",
       "17     17      Western"
      ]
     },
     "execution_count": 68,
     "metadata": {},
     "output_type": "execute_result"
    }
   ],
   "source": [
    "print(\"Look up table for class color and genres:\")\n",
    "pd.DataFrame({\"class\":list(range(18)),\"genres\":list(le.classes_)})"
   ]
  },
  {
   "cell_type": "markdown",
   "metadata": {},
   "source": [
    "# Reference\n",
    "https://beckernick.github.io/matrix-factorization-recommender/"
   ]
  },
  {
   "cell_type": "code",
   "execution_count": null,
   "metadata": {
    "collapsed": true
   },
   "outputs": [],
   "source": []
  }
 ],
 "metadata": {
  "kernelspec": {
   "display_name": "Python 3",
   "language": "python",
   "name": "python3"
  },
  "language_info": {
   "codemirror_mode": {
    "name": "ipython",
    "version": 3
   },
   "file_extension": ".py",
   "mimetype": "text/x-python",
   "name": "python",
   "nbconvert_exporter": "python",
   "pygments_lexer": "ipython3",
   "version": "3.6.3"
  }
 },
 "nbformat": 4,
 "nbformat_minor": 1
}
