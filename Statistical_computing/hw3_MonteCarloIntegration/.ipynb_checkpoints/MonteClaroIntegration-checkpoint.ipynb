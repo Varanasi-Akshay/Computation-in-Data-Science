{
 "cells": [
  {
   "cell_type": "code",
   "execution_count": 1,
   "metadata": {
    "collapsed": true
   },
   "outputs": [],
   "source": [
    "import numpy as np\n",
    "import matplotlib.pyplot as plt\n",
    "import scipy.stats as stats\n",
    "% matplotlib inline"
   ]
  },
  {
   "cell_type": "markdown",
   "metadata": {},
   "source": [
    "#### 1-1. $\\int_0^1 \\dots \\int_0^1 \\prod_{k=1}^{19} \\exp(\\sqrt{\\cos x_k + k^2 \\sin x_{k+1}}) dx_1\\dots dx_{20}$"
   ]
  },
  {
   "cell_type": "code",
   "execution_count": 10,
   "metadata": {},
   "outputs": [
    {
     "name": "stdout",
     "output_type": "stream",
     "text": [
      "5.51774536156395e+64\n"
     ]
    }
   ],
   "source": [
    "max_iter = 10000\n",
    "integral = 0\n",
    "for i in range(max_iter):\n",
    "    vec_x = np.random.uniform(0,1,20)\n",
    "    product = 1\n",
    "    for j in range(19):\n",
    "        product = product*np.exp(np.sqrt(np.cos(vec_x[j])+((j+1)**2)*np.sin(vec_x[j+1])))\n",
    "    integral += product\n",
    "print(integral/max_iter)"
   ]
  },
  {
   "cell_type": "markdown",
   "metadata": {},
   "source": [
    "#### 1-2. $\\int_{0}^{100}(cos\\, x)e^{-50x^{2}}$"
   ]
  },
  {
   "cell_type": "code",
   "execution_count": 11,
   "metadata": {},
   "outputs": [
    {
     "name": "stdout",
     "output_type": "stream",
     "text": [
      "estimate: 0.12452655322909195\n"
     ]
    }
   ],
   "source": [
    "def func(x):\n",
    "    return np.cos(x)*np.exp(-50*(x**2))\n",
    "\n",
    "s = 0\n",
    "max_iter = 1000000\n",
    "for _ in range(max_iter):\n",
    "    rn = np.random.uniform(0,100)\n",
    "    s+=(func(rn))\n",
    "print(\"estimate:\", 100*s/max_iter)"
   ]
  },
  {
   "cell_type": "code",
   "execution_count": 12,
   "metadata": {},
   "outputs": [
    {
     "name": "stdout",
     "output_type": "stream",
     "text": [
      "answer: 0.12470632069775339\n"
     ]
    }
   ],
   "source": [
    "# answer \n",
    "from scipy import integrate\n",
    "f = lambda x: np.cos(x)*np.exp(-50*(x**2))\n",
    "y, error = integrate.quad(f, 0, 100)\n",
    "print(\"answer:\", y)"
   ]
  },
  {
   "cell_type": "markdown",
   "metadata": {},
   "source": [
    "#### 1-3 $\\int_0^{100} (\\cos{x}) e^{-50x^{2.01}}dx$"
   ]
  },
  {
   "cell_type": "code",
   "execution_count": 14,
   "metadata": {
    "collapsed": true
   },
   "outputs": [],
   "source": [
    "def f(x):\n",
    "    return (np.cos(x)*np.exp(-50*x**2.01))"
   ]
  },
  {
   "cell_type": "code",
   "execution_count": 17,
   "metadata": {},
   "outputs": [
    {
     "name": "stdout",
     "output_type": "stream",
     "text": [
      "estimate: 0.1276769939916754\n"
     ]
    }
   ],
   "source": [
    "s = 0\n",
    "max_iter = 100000\n",
    "for _ in range(max_iter):\n",
    "    vec_x = np.random.uniform(0,100)\n",
    "    product = f(vec_x)\n",
    "    s += product\n",
    "print(\"estimate:\", 100*s/max_iter)"
   ]
  },
  {
   "cell_type": "code",
   "execution_count": 22,
   "metadata": {},
   "outputs": [
    {
     "name": "stdout",
     "output_type": "stream",
     "text": [
      "answer: 0.125905663027547\n"
     ]
    }
   ],
   "source": [
    "# answer\n",
    "from scipy.integrate import quad\n",
    "answer = quad(lambda x: f(x), 0, 100)[0]\n",
    "print(\"answer:\", answer)"
   ]
  },
  {
   "cell_type": "markdown",
   "metadata": {},
   "source": [
    "#### 2-1. estimate p(x>8) from N(0,1)"
   ]
  },
  {
   "cell_type": "markdown",
   "metadata": {},
   "source": [
    "$P(x>8) = \\int_{8}^{\\infty }\\frac{1}{\\sqrt{2\\pi }}e^{\\frac{-x^{2}} {2}}dx\n",
    "=\\int_{8}^{\\infty }\\frac{1}{\\sqrt{2\\pi }}e^{\\frac {-(x-8)^{2}}{2}}e^{-8x+32}dx$"
   ]
  },
  {
   "cell_type": "code",
   "execution_count": 13,
   "metadata": {},
   "outputs": [
    {
     "data": {
      "text/plain": [
       "0.0"
      ]
     },
     "execution_count": 13,
     "metadata": {},
     "output_type": "execute_result"
    }
   ],
   "source": [
    "s = []\n",
    "for _ in range(1000):\n",
    "    n = np.random.normal(0,1)\n",
    "    s.append(n>8)\n",
    "np.mean(s)"
   ]
  },
  {
   "cell_type": "code",
   "execution_count": 23,
   "metadata": {},
   "outputs": [
    {
     "name": "stdout",
     "output_type": "stream",
     "text": [
      "estimate: 6.184585576717975e-16\n"
     ]
    }
   ],
   "source": [
    "s = 0\n",
    "num = 10000\n",
    "for _ in range(num):\n",
    "    n = np.random.normal(8,1) # sample from N(8,1)\n",
    "    if n>8:\n",
    "        output = np.exp(-8*n+32)\n",
    "        s += (output)\n",
    "print(\"estimate:\",s/num)"
   ]
  },
  {
   "cell_type": "code",
   "execution_count": 24,
   "metadata": {},
   "outputs": [
    {
     "name": "stdout",
     "output_type": "stream",
     "text": [
      "answer 6.661338147750939e-16\n"
     ]
    }
   ],
   "source": [
    "# answer \n",
    "answer =1 - stats.norm().cdf(8)\n",
    "print(\"answer\", answer)"
   ]
  },
  {
   "cell_type": "markdown",
   "metadata": {},
   "source": [
    "#### example for x>5 from N(0,1)"
   ]
  },
  {
   "cell_type": "code",
   "execution_count": 27,
   "metadata": {},
   "outputs": [
    {
     "data": {
      "text/plain": [
       "(2.8563759640716087e-07, 0.003537310155217964)"
      ]
     },
     "execution_count": 27,
     "metadata": {},
     "output_type": "execute_result"
    }
   ],
   "source": [
    "# Using importance sampling\n",
    "n = 10000\n",
    "y = stats.expon(loc=5).rvs(n)\n",
    "h_is = 1.0/n * np.sum(stats.norm().pdf(y)/stats.expon(loc=5).pdf(y))\n",
    "# estimate and relative error\n",
    "h_is, np.abs(h_is- h_true)/h_true"
   ]
  },
  {
   "cell_type": "code",
   "execution_count": 28,
   "metadata": {},
   "outputs": [
    {
     "data": {
      "text/plain": [
       "2.866515719235352e-07"
      ]
     },
     "execution_count": 28,
     "metadata": {},
     "output_type": "execute_result"
    }
   ],
   "source": [
    "h_true =1 - stats.norm().cdf(5)\n",
    "h_true"
   ]
  },
  {
   "cell_type": "markdown",
   "metadata": {},
   "source": [
    "reference: https://people.duke.edu/~ccc14/sta-663/MonteCarlo.html"
   ]
  },
  {
   "cell_type": "code",
   "execution_count": null,
   "metadata": {
    "collapsed": true
   },
   "outputs": [],
   "source": []
  }
 ],
 "metadata": {
  "kernelspec": {
   "display_name": "Python 3",
   "language": "python",
   "name": "python3"
  },
  "language_info": {
   "codemirror_mode": {
    "name": "ipython",
    "version": 3
   },
   "file_extension": ".py",
   "mimetype": "text/x-python",
   "name": "python",
   "nbconvert_exporter": "python",
   "pygments_lexer": "ipython3",
   "version": "3.5.2"
  }
 },
 "nbformat": 4,
 "nbformat_minor": 2
}
