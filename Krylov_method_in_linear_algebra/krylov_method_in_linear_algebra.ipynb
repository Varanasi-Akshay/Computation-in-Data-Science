{
 "cells": [
  {
   "cell_type": "code",
   "execution_count": 1,
   "metadata": {
    "collapsed": true
   },
   "outputs": [],
   "source": [
    "import numpy as np\n",
    "import scipy.linalg\n",
    "import matplotlib.pyplot as plt"
   ]
  },
  {
   "cell_type": "markdown",
   "metadata": {},
   "source": [
    "## Power iteration"
   ]
  },
  {
   "cell_type": "code",
   "execution_count": 37,
   "metadata": {},
   "outputs": [
    {
     "name": "stdout",
     "output_type": "stream",
     "text": [
      "power iteration:\n",
      " 2.2446682909767905\n",
      "\n",
      "numpy solution:\n",
      " (2.2446682054060747+0j)\n"
     ]
    }
   ],
   "source": [
    "def poweriter(A, n_iter):\n",
    "    gamma = []\n",
    "    x = np.random.random((len(A),1))\n",
    "    for _ in range(n_iter):\n",
    "        y = A @ x\n",
    "        norm_term = np.max(np.abs(y))\n",
    "        m = np.argmax(np.abs(y))\n",
    "        gamma.append((y[m]/x[m])[0])\n",
    "        x = y / norm_term\n",
    "    return gamma, x\n",
    "\n",
    "A = np.random.random((5,5))\n",
    "gamma, x = poweriter(A, 10)\n",
    "\n",
    "print(\"power iteration:\\n\",gamma[-1])\n",
    "print(\"\\nnumpy solution:\\n\",np.linalg.eigvals(A)[0])\n"
   ]
  },
  {
   "cell_type": "markdown",
   "metadata": {},
   "source": [
    "## Inverse iteration (shift inverse iteration)"
   ]
  },
  {
   "cell_type": "code",
   "execution_count": 3,
   "metadata": {
    "collapsed": true
   },
   "outputs": [],
   "source": [
    "def inviter(A, s, n_iter):\n",
    "    gamma = []\n",
    "    n = len(A)\n",
    "    x = np.random.random((n,1))\n",
    "    B = A - s*np.identity(n)\n",
    "    P, L, U = scipy.linalg.lu(B)\n",
    "    for _ in range(n_iter):\n",
    "        y = np.linalg.lstsq(U,np.linalg.lstsq(L,x)[0])[0]\n",
    "        norm_term = np.max(np.abs(y))\n",
    "        m = np.argmax(np.abs(y))\n",
    "        gamma.append((x[m]/y[m])[0]+s)\n",
    "        x = y/norm_term\n",
    "    return gamma, x"
   ]
  },
  {
   "cell_type": "code",
   "execution_count": 4,
   "metadata": {},
   "outputs": [],
   "source": [
    "lambda_ = [1, -0.75, 0.6, -0.4, 0]\n",
    "A = np.triu(np.ones(5),1) + np.diag(lambda_)"
   ]
  },
  {
   "cell_type": "code",
   "execution_count": 5,
   "metadata": {},
   "outputs": [
    {
     "name": "stderr",
     "output_type": "stream",
     "text": [
      "/usr/local/lib/python3.5/dist-packages/ipykernel_launcher.py:8: FutureWarning: `rcond` parameter will change to the default of machine precision times ``max(M, N)`` where M and N are the input matrix dimensions.\n",
      "To use the future default and silence this warning we advise to pass `rcond=None`, to keep using the old, explicitly pass `rcond=-1`.\n",
      "  \n"
     ]
    }
   ],
   "source": [
    "gamma, x = inviter(A, 0.7, 30)"
   ]
  },
  {
   "cell_type": "code",
   "execution_count": 6,
   "metadata": {},
   "outputs": [
    {
     "name": "stdout",
     "output_type": "stream",
     "text": [
      "closet eigenvalue: 0.5999999999999982\n"
     ]
    }
   ],
   "source": [
    "print(\"closet eigenvalue:\", gamma[-1])"
   ]
  },
  {
   "cell_type": "markdown",
   "metadata": {},
   "source": [
    "## krylov subspaces"
   ]
  },
  {
   "cell_type": "code",
   "execution_count": 7,
   "metadata": {},
   "outputs": [
    {
     "name": "stdout",
     "output_type": "stream",
     "text": [
      "(100, 100)\n"
     ]
    }
   ],
   "source": [
    "lambda_ = np.arange(1,101) + 10\n",
    "A = np.diag(lambda_) + np.triu(np.random.random(100),1)\n",
    "b = np.random.random((100,1))\n",
    "print(A.shape)"
   ]
  },
  {
   "cell_type": "code",
   "execution_count": 8,
   "metadata": {},
   "outputs": [
    {
     "name": "stdout",
     "output_type": "stream",
     "text": [
      "(100, 30)\n"
     ]
    }
   ],
   "source": [
    "# let b as nature seed (u in text book)\n",
    "Km = b\n",
    "for m in range(29):\n",
    "    v = A @ Km[:,m]\n",
    "    Km = np.concatenate((Km, (v/np.linalg.norm(v)).reshape(100,1)), axis=1)\n",
    "print(Km.shape)"
   ]
  },
  {
   "cell_type": "code",
   "execution_count": 9,
   "metadata": {},
   "outputs": [
    {
     "name": "stderr",
     "output_type": "stream",
     "text": [
      "/usr/local/lib/python3.5/dist-packages/ipykernel_launcher.py:4: FutureWarning: `rcond` parameter will change to the default of machine precision times ``max(M, N)`` where M and N are the input matrix dimensions.\n",
      "To use the future default and silence this warning we advise to pass `rcond=None`, to keep using the old, explicitly pass `rcond=-1`.\n",
      "  after removing the cwd from sys.path.\n"
     ]
    }
   ],
   "source": [
    "# solve a least square problem\n",
    "resid = []\n",
    "for m in range(30):\n",
    "    z = np.linalg.lstsq((A@Km[:,:m+1]),b)[0]\n",
    "    x = Km[:,0:m+1]@z\n",
    "    resid.append(np.linalg.norm(b-A@x))"
   ]
  },
  {
   "cell_type": "code",
   "execution_count": 10,
   "metadata": {},
   "outputs": [
    {
     "data": {
      "image/png": "[encoded data removed]",
      "text/plain": [
       "<Figure size 432x288 with 1 Axes>"
      ]
     },
     "metadata": {},
     "output_type": "display_data"
    }
   ],
   "source": [
    "plt.plot(resid)\n",
    "plt.yscale('log')\n",
    "plt.show() "
   ]
  },
  {
   "cell_type": "code",
   "execution_count": 11,
   "metadata": {},
   "outputs": [
    {
     "name": "stderr",
     "output_type": "stream",
     "text": [
      "/usr/local/lib/python3.5/dist-packages/ipykernel_launcher.py:1: FutureWarning: `rcond` parameter will change to the default of machine precision times ``max(M, N)`` where M and N are the input matrix dimensions.\n",
      "To use the future default and silence this warning we advise to pass `rcond=None`, to keep using the old, explicitly pass `rcond=-1`.\n",
      "  \"\"\"Entry point for launching an IPython kernel.\n"
     ]
    },
    {
     "data": {
      "text/plain": [
       "3.6060659534780062e-06"
      ]
     },
     "execution_count": 11,
     "metadata": {},
     "output_type": "execute_result"
    }
   ],
   "source": [
    "z = np.linalg.lstsq((A@Km),b)[0]\n",
    "x = Km @ z\n",
    "np.linalg.norm(b- A@x)"
   ]
  },
  {
   "cell_type": "markdown",
   "metadata": {},
   "source": [
    "## The Arnoldi iteration"
   ]
  },
  {
   "cell_type": "markdown",
   "metadata": {},
   "source": [
    "The Arnoldi iteration finds an **orthonormal** basis for a Krylov subspace"
   ]
  },
  {
   "cell_type": "code",
   "execution_count": 12,
   "metadata": {
    "collapsed": true
   },
   "outputs": [],
   "source": [
    "def arnoldi(A, u, m):\n",
    "    n = len(A)\n",
    "    Q = np.zeros((n,m+1))\n",
    "    H = np.zeros((m+1, m))\n",
    "    Q[:,0] = (u / np.linalg.norm(u)).flatten()\n",
    "    for j in range(m):\n",
    "        v = A @ Q[:,j]\n",
    "        for i in range(j+1):\n",
    "            H[i,j] = Q[:,i].T @ v\n",
    "            v = v - H[i,j] * Q[:,i]\n",
    "        # normalize\n",
    "        H[j+1,j] = np.linalg.norm(v)\n",
    "        Q[:,j+1] = v/H[j+1,j]\n",
    "    return Q, H"
   ]
  },
  {
   "cell_type": "markdown",
   "metadata": {},
   "source": [
    "# GMRES"
   ]
  },
  {
   "cell_type": "code",
   "execution_count": 13,
   "metadata": {},
   "outputs": [
    {
     "name": "stdout",
     "output_type": "stream",
     "text": [
      "(100, 100)\n"
     ]
    }
   ],
   "source": [
    "# GMERS uses the output of the Arnoldi iteration to minimize the residual of Ax=b over successive K. space\n",
    "lambda_ = np.arange(1,101) + 10\n",
    "A = np.diag(lambda_) + np.triu(np.random.random(100),1)\n",
    "b = np.random.random((100,1))\n",
    "print(A.shape)"
   ]
  },
  {
   "cell_type": "code",
   "execution_count": 14,
   "metadata": {},
   "outputs": [],
   "source": [
    "Q, H = arnoldi(A,b,60)"
   ]
  },
  {
   "cell_type": "markdown",
   "metadata": {},
   "source": [
    "$ x_{m} = Q_{m}z_{m} $"
   ]
  },
  {
   "cell_type": "code",
   "execution_count": 15,
   "metadata": {},
   "outputs": [
    {
     "name": "stderr",
     "output_type": "stream",
     "text": [
      "/usr/local/lib/python3.5/dist-packages/ipykernel_launcher.py:4: FutureWarning: `rcond` parameter will change to the default of machine precision times ``max(M, N)`` where M and N are the input matrix dimensions.\n",
      "To use the future default and silence this warning we advise to pass `rcond=None`, to keep using the old, explicitly pass `rcond=-1`.\n",
      "  after removing the cwd from sys.path.\n"
     ]
    }
   ],
   "source": [
    "resid = []\n",
    "for m in range(60):\n",
    "    s = np.vstack((np.linalg.norm(b),np.zeros((m+1,1))))\n",
    "    z = np.linalg.lstsq(H[:m+2,:m+1],s)[0]\n",
    "    x = Q[:,:m+1] @ z\n",
    "    error = np.linalg.norm(b-A@x)\n",
    "    resid.append(error)"
   ]
  },
  {
   "cell_type": "code",
   "execution_count": 16,
   "metadata": {},
   "outputs": [
    {
     "data": {
      "image/png": "[encoded data removed]",
      "text/plain": [
       "<Figure size 432x288 with 1 Axes>"
      ]
     },
     "metadata": {},
     "output_type": "display_data"
    }
   ],
   "source": [
    "plt.plot(resid)\n",
    "plt.yscale('log')\n",
    "plt.show() "
   ]
  },
  {
   "cell_type": "code",
   "execution_count": 32,
   "metadata": {
    "collapsed": true
   },
   "outputs": [],
   "source": [
    "# GMRES for a linear system \n",
    "def arngmres(A,b,M):\n",
    "    # M: number of iteration\n",
    "    n = len(A)\n",
    "    Q = np.zeros((n,M+1))\n",
    "\n",
    "    Q[:,0] = (b / np.linalg.norm(b)).flatten() # q1\n",
    "    H = np.zeros((M+1,M))\n",
    "    residual = []\n",
    "    # set initional solution to zero\n",
    "    for m in range(M):\n",
    "        v = A @ Q[:,m]\n",
    "        # next step of Arnoldi iteration\n",
    "        for i in range(m+1):\n",
    "            H[i,m] = Q[:,i].T @ v\n",
    "            v = v - H[i,m] * Q[:,i]\n",
    "\n",
    "        H[m+1,m] = np.linalg.norm(v)\n",
    "        Q[:,m+1] = v / H[m+1,m]\n",
    "\n",
    "        # solve the lstsq\n",
    "        r = np.linalg.norm(b) * np.eye(m+2 ,1)\n",
    "        z = np.linalg.lstsq(H[:m+2,:m+1], r)[0]\n",
    "        x = Q[:,:m+1] @ z\n",
    "        error =  np.linalg.norm(b-A@x)\n",
    "        residual.append(error)\n",
    "    return residual\n"
   ]
  },
  {
   "cell_type": "code",
   "execution_count": 35,
   "metadata": {},
   "outputs": [
    {
     "name": "stderr",
     "output_type": "stream",
     "text": [
      "/usr/local/lib/python3.5/dist-packages/ipykernel_launcher.py:23: FutureWarning: `rcond` parameter will change to the default of machine precision times ``max(M, N)`` where M and N are the input matrix dimensions.\n",
      "To use the future default and silence this warning we advise to pass `rcond=None`, to keep using the old, explicitly pass `rcond=-1`.\n"
     ]
    },
    {
     "data": {
      "image/png": "[encoded data removed]",
      "text/plain": [
       "<Figure size 432x288 with 1 Axes>"
      ]
     },
     "metadata": {},
     "output_type": "display_data"
    }
   ],
   "source": [
    "# GMERS uses the output of the Arnoldi iteration to minimize the residual of Ax=b over successive K. space\n",
    "lambda_ = np.arange(1,101) + 10\n",
    "A = np.diag(lambda_) + np.triu(np.random.random(100),1)\n",
    "b = np.random.random((100,1))\n",
    "resid = arngmres(A,b,60)\n",
    "plt.plot(resid)\n",
    "plt.yscale('log')\n",
    "plt.show() "
   ]
  },
  {
   "cell_type": "code",
   "execution_count": null,
   "metadata": {
    "collapsed": true
   },
   "outputs": [],
   "source": []
  }
 ],
 "metadata": {
  "kernelspec": {
   "display_name": "Python 3",
   "language": "python",
   "name": "python3"
  },
  "language_info": {
   "codemirror_mode": {
    "name": "ipython",
    "version": 3
   },
   "file_extension": ".py",
   "mimetype": "text/x-python",
   "name": "python",
   "nbconvert_exporter": "python",
   "pygments_lexer": "ipython3",
   "version": "3.5.2"
  }
 },
 "nbformat": 4,
 "nbformat_minor": 2
}
