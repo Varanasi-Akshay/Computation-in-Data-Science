{
 "cells": [
  {
   "cell_type": "code",
   "execution_count": 5,
   "metadata": {},
   "outputs": [],
   "source": [
    "import numpy as np\n",
    "import scipy.linalg"
   ]
  },
  {
   "cell_type": "markdown",
   "metadata": {},
   "source": [
    "## Power iteration"
   ]
  },
  {
   "cell_type": "code",
   "execution_count": 2,
   "metadata": {},
   "outputs": [
    {
     "name": "stdout",
     "output_type": "stream",
     "text": [
      "power iteration: ([7.046318963211983, 3.637322129561309, 2.096949454751101, 2.5908072979643864, 2.388289631755063, 2.4589172998818247, 2.432301723401974, 2.4421404499497044, 2.4384919086681824, 2.4398424429269396], array([[1.        ],\n",
      "       [0.90450555],\n",
      "       [0.92506393],\n",
      "       [0.8558196 ],\n",
      "       [0.91725218]]))\n",
      "numpy solution (2.4394771229467906+0j)\n"
     ]
    }
   ],
   "source": [
    "def poweriter(A, n_iter):\n",
    "    gamma = []\n",
    "    x = np.random.random((len(A),1))\n",
    "    for _ in range(n_iter):\n",
    "        y = A @ x\n",
    "        norm_term = np.max(np.abs(y))\n",
    "        m = np.argmax(np.abs(y))\n",
    "        gamma.append((y[m]/x[m])[0])\n",
    "        x = y / norm_term\n",
    "    return gamma, x\n",
    "\n",
    "A = np.random.random((5,5))\n",
    "print(\"power iteration:\",poweriter(A, 10))\n",
    "print(\"numpy solution\",np.linalg.eigvals(A)[0])\n"
   ]
  },
  {
   "cell_type": "markdown",
   "metadata": {},
   "source": [
    "## Inverse iteration (shift inverse iteration)"
   ]
  },
  {
   "cell_type": "code",
   "execution_count": 6,
   "metadata": {},
   "outputs": [
    {
     "data": {
      "text/plain": [
       "<function scipy.linalg.decomp_lu.lu(a, permute_l=False, overwrite_a=False, check_finite=True)>"
      ]
     },
     "execution_count": 6,
     "metadata": {},
     "output_type": "execute_result"
    }
   ],
   "source": [
    "scipy.linalg.lu"
   ]
  },
  {
   "cell_type": "code",
   "execution_count": 11,
   "metadata": {},
   "outputs": [],
   "source": [
    "def inviter(A, s, n_iter):\n",
    "    gamma = []\n",
    "    n = len(A)\n",
    "    x = np.random.random(n,1)\n",
    "    B = A - s*np.identity(n)\n",
    "    P, L, U = scipy.linalg.lu(B)\n",
    "    for _ in range(n_iter):\n",
    "        y = linalg.solve(U,linalg.solve(L,x))\n",
    "        norm_term = np.max(np.abs(y))\n",
    "        m = np.argmax(np.abs(y))\n",
    "        gamma.append((y[m]/x[m])[0]+s)\n",
    "        x = y/norm_term\n",
    "    return gamma, x"
   ]
  },
  {
   "cell_type": "code",
   "execution_count": null,
   "metadata": {},
   "outputs": [],
   "source": []
  }
 ],
 "metadata": {
  "kernelspec": {
   "display_name": "Python 3",
   "language": "python",
   "name": "python3"
  },
  "language_info": {
   "codemirror_mode": {
    "name": "ipython",
    "version": 3
   },
   "file_extension": ".py",
   "mimetype": "text/x-python",
   "name": "python",
   "nbconvert_exporter": "python",
   "pygments_lexer": "ipython3",
   "version": "3.6.4"
  }
 },
 "nbformat": 4,
 "nbformat_minor": 2
}
